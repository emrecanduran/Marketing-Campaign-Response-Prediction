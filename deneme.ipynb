{
 "cells": [
  {
   "cell_type": "markdown",
   "metadata": {},
   "source": [
    "# <center> Machine Learning for Marketing Project: Marketing Campaign\n",
    "\n",
    "## Project 2 - Classification \n",
    "### Predict customers likely to respond to a marketing campaign\n",
    "### This notebook uses the *campaign.xlsx* dataset. \n",
    "#### This notebook includes `'Data Preperation'`, `'Modeling'` for the best model Logistic Regression. `'Business Understanding'`, `'Data Understanding'` and `'Feature Exploration'` parts place in the different notebook. "
   ]
  },
  {
   "cell_type": "markdown",
   "metadata": {},
   "source": [
    "### Dataset description\n",
    "\n",
    "| Feature               | Description                                                    |\n",
    "|-----------------------|----------------------------------------------------------------|\n",
    "| AcceptedCmp1          | 1 if customer accepted the offer in the 1st campaign, 0 otherwise |\n",
    "| AcceptedCmp2          | 1 if customer accepted the offer in the 2nd campaign, 0 otherwise |\n",
    "| AcceptedCmp3          | 1 if customer accepted the offer in the 3rd campaign, 0 otherwise |\n",
    "| AcceptedCmp4          | 1 if customer accepted the offer in the 4th campaign, 0 otherwise |\n",
    "| AcceptedCmp5          | 1 if customer accepted the offer in the 5th campaign, 0 otherwise |\n",
    "| Response (target)     | 1 if customer accepted the offer in the last campaign, 0 otherwise |\n",
    "| Complain              | 1 if customer complained in the last 2 years                   |\n",
    "| DtCustomer            | Date of customer’s enrolment with the company                  |\n",
    "| Education             | Customer’s level of education                                  |\n",
    "| Marital               | Customer’s marital status                                      |\n",
    "| Kidhome               | Number of small children in customer’s household               |\n",
    "| Teenhome              | Number of teenagers in customer’s household                    |\n",
    "| Income                | Customer’s yearly household income                             |\n",
    "| MntFishProducts       | Amount spent on fish products in the last 2 years              |\n",
    "| MntMeatProducts       | Amount spent on meat products in the last 2 years              |\n",
    "| MntFruits             | Amount spent on fruits products in the last 2 years            |\n",
    "| MntSweetProducts      | Amount spent on sweet products in the last 2 years             |\n",
    "| MntWines              | Amount spent on wine products in the last 2 years              |\n",
    "| MntGoldProds          | Amount spent on gold products in the last 2 years              |\n",
    "| NumDealsPurchases     | Number of purchases made with discount                         |\n",
    "| NumCatalogPurchases   | Number of purchases made using catalogue                       |\n",
    "| NumStorePurchases     | Number of purchases made directly in stores                    |\n",
    "| NumWebPurchases       | Number of purchases made through company’s web site            |\n",
    "| NumWebVisitsMonth     | Number of visits to company’s web site in the last month       |\n",
    "| Recency               | Number of days since the last purchase                         |"
   ]
  },
  {
   "cell_type": "markdown",
   "metadata": {},
   "source": [
    "### **Overview**\n",
    "<p>It is asked to develop a prediction model in such a way that it will be possible for the Marketing Department of a retail company to predict which customers are likely to respond to a marketing campaing based on information from a previous campaign.</p>\n",
    "<p>A response model can provide a significant boost to the efficiency of a marketing campaign by increasing responses or reducing expenses.</p>\n",
    "\n",
    "### **What is needed for the model to be considered successfull ?** \n",
    "Product manager Sarah striving to optimize the company marketing campaigns. With a keen eye on metrics like recall(>0.75) and F1 score, Sarah ensures their campaigns reach a broad audience (recall) while maintaining precision in targeting (F1 score > 0.5). \n",
    "\n",
    "### **Model building**\n",
    "\n",
    "To achieve the objective, it is followed a systematic approach, CRISP-DM, that involves several stages and proceed to train and evaluate predictive models using 4 different machine learning models with their best parameters such as:\n",
    "\n",
    "- Decision Tree \n",
    "- Random Forest \n",
    "- XGBoost\n",
    "- Logistic Regression\n",
    "\n",
    "It is tried to explore various models from different families, including bagging techniques like Random Forest, boosting methods such as XGBoost, as well as Logistic Regression which is linear model. Logistic Regression is selected as a best model.\n",
    "\n",
    "### **Questions or additional informations**\n",
    "For any additional questions, don't hesitate to get in touch with the instructors. The instructors will also act as the company business/project stakeholder."
   ]
  },
  {
   "cell_type": "code",
   "execution_count": 1,
   "metadata": {},
   "outputs": [],
   "source": [
    "# Data Manipulation and Analysis\n",
    "import pandas as pd\n",
    "import numpy as np\n",
    "import re\n",
    "import collections\n",
    "from datetime import datetime\n",
    "\n",
    "# Data Visualization\n",
    "import matplotlib.pyplot as plt\n",
    "import seaborn as sns\n",
    "import graphviz\n",
    "\n",
    "# Data Preprocessing\n",
    "import imblearn\n",
    "import sklearn\n",
    "from imblearn.over_sampling import BorderlineSMOTE\n",
    "from sklearn.preprocessing import MinMaxScaler\n",
    "import category_encoders as ce\n",
    "from sklearn.impute import SimpleImputer\n",
    "from sklearn.impute import KNNImputer\n",
    "\n",
    "# Machine Learning Model\n",
    "\n",
    "from sklearn.linear_model import LogisticRegression\n",
    "from yellowbrick.model_selection import RFECV\n",
    "\n",
    "# Model Selection and Evaluation\n",
    "from sklearn.model_selection import GridSearchCV, train_test_split\n",
    "from yellowbrick.model_selection import CVScores, LearningCurve\n",
    "from yellowbrick.classifier import DiscriminationThreshold, ClassPredictionError, PrecisionRecallCurve, ROCAUC\n",
    "from sklearn import metrics \n",
    "import statsmodels.api as sm\n",
    "\n",
    "# Save the model\n",
    "import pickle\n",
    "\n",
    "# Assign random state for reproducebility\n",
    "random_state=2024\n",
    "\n",
    "# Set seaborn style\n",
    "sns.set_style(\"whitegrid\")\n",
    "\n",
    "# Set the max_columns option to None to display all columns\n",
    "pd.set_option('display.max_columns', None)"
   ]
  },
  {
   "cell_type": "code",
   "execution_count": 2,
   "metadata": {},
   "outputs": [
    {
     "name": "stdout",
     "output_type": "stream",
     "text": [
      "pandas version: 2.0.3\n",
      "numpy version: 1.26.4\n",
      "matplotlib version: 3.7.2\n",
      "seaborn version: 0.12.2\n",
      "scikit-learn version: 1.3.2\n"
     ]
    }
   ],
   "source": [
    "# Print library versions\n",
    "print(\"pandas version:\", pd.__version__)\n",
    "print(\"numpy version:\", np.__version__)\n",
    "print(\"matplotlib version:\", plt.matplotlib.__version__)\n",
    "print(\"seaborn version:\", sns.__version__)\n",
    "print(\"scikit-learn version:\", sklearn.__version__) "
   ]
  },
  {
   "cell_type": "markdown",
   "metadata": {},
   "source": [
    "##### **Helper functions**"
   ]
  },
  {
   "cell_type": "code",
   "execution_count": 3,
   "metadata": {},
   "outputs": [],
   "source": [
    "# Code adapted from: Prof. Nuno Antonio, Machine Learning for Marketing\n",
    "# Plus, figsize parameter is added\n",
    "# WHY? Visualizing the confusion matrix is a critical step in model evaluation as it provides a detailed, understandable, and actionable insight into the strengths and weaknesses of your model's predictions\n",
    "\n",
    "# Confusion matrix function\n",
    "def make_confusion_matrix(cf,\n",
    "                          group_names=None,\n",
    "                          categories='auto',\n",
    "                          count=True,\n",
    "                          percent=True,\n",
    "                          cbar=True,\n",
    "                          xyticks=True,\n",
    "                          xyplotlabels=True,\n",
    "                          sum_stats=True,\n",
    "                          figsize=None,\n",
    "                          cmap='Blues',\n",
    "                          title=None):\n",
    "    '''\n",
    "    This function will make a pretty plot of an sklearn Confusion Matrix cf using a Seaborn heatmap visualization.\n",
    "    Arguments\n",
    "    ---------\n",
    "    cf:            confusion matrix to be passed in\n",
    "    group_names:   List of strings that represent the labels row by row to be shown in each square.\n",
    "    categories:    List of strings containing the categories to be displayed on the x,y axis. Default is 'auto'\n",
    "    count:         If True, show the raw number in the confusion matrix. Default is True.\n",
    "    percent:       If True, show the proportions for each category. Default is True.\n",
    "    cbar:          If True, show the color bar. The cbar values are based off the values in the confusion matrix.\n",
    "                   Default is True.\n",
    "    xyticks:       If True, show x and y ticks. Default is True.\n",
    "    xyplotlabels:  If True, show 'True Label' and 'Predicted Label' on the figure. Default is True.\n",
    "    sum_stats:     If True, display summary statistics below the figure. Default is True.\n",
    "    figsize:       Tuple representing the figure size. Default will be the matplotlib rcParams value.\n",
    "    cmap:          Colormap of the values displayed from matplotlib.pyplot.cm. Default is 'Blues'\n",
    "                   See http://matplotlib.org/examples/color/colormaps_reference.html\n",
    "    title:         Title for the heatmap. Default is None.\n",
    "    '''\n",
    "\n",
    "    # CODE TO GENERATE TEXT INSIDE EACH SQUARE\n",
    "    blanks = ['' for i in range(cf.size)]\n",
    "\n",
    "    if group_names and len(group_names)==cf.size:\n",
    "        group_labels = [\"{}\\n\".format(value) for value in group_names]\n",
    "    else:\n",
    "        group_labels = blanks\n",
    "\n",
    "    if count:\n",
    "        group_counts = [\"{0:0.0f}\\n\".format(value) for value in cf.flatten()]\n",
    "    else:\n",
    "        group_counts = blanks\n",
    "\n",
    "    if percent:\n",
    "        group_percentages = [\"{0:.2%}\".format(value) for value in cf.flatten()/np.sum(cf)]\n",
    "    else:\n",
    "        group_percentages = blanks\n",
    "\n",
    "    box_labels = [f\"{v1}{v2}{v3}\".strip() for v1, v2, v3 in zip(group_labels,group_counts,group_percentages)]\n",
    "    box_labels = np.asarray(box_labels).reshape(cf.shape[0],cf.shape[1])\n",
    "\n",
    "    # SET FIGURE PARAMETERS ACCORDING TO OTHER ARGUMENTS\n",
    "    if figsize is None:\n",
    "        figsize = plt.rcParams.get('figure.figsize')\n",
    "\n",
    "    if not xyticks:\n",
    "        categories = False\n",
    "\n",
    "    # MAKE THE HEATMAP VISUALIZATION\n",
    "    plt.figure(figsize=figsize)\n",
    "    ax = sns.heatmap(cf, annot=box_labels, fmt=\"\", cmap=cmap, cbar=cbar, xticklabels=categories, yticklabels=categories)\n",
    "\n",
    "    if xyplotlabels:\n",
    "        plt.ylabel('True label')\n",
    "        plt.xlabel('Predicted label')\n",
    "    else:\n",
    "        plt.xlabel('')\n",
    "    \n",
    "    if title:\n",
    "        plt.title(title)\n",
    "        \n",
    "    plt.show()"
   ]
  },
  {
   "cell_type": "code",
   "execution_count": 4,
   "metadata": {},
   "outputs": [],
   "source": [
    "# Code adapted from: Prof. Nuno Antonio, Machine Learning for Marketing\n",
    "# Plus, added specificity and geometric mean as evaluation metrics\n",
    "# WHY? This code provides a robust framework for evaluating machine learning models by incorporating a variety of performance metrics. This leads to more informed and reliable assessments, ultimately improving model performance and applicability in real-world scenarios\n",
    "\n",
    "# Specificity \n",
    "def specificity_score(y_true, y_pred):\n",
    "    tn, fp, fn, tp = metrics.confusion_matrix(y_true, y_pred).ravel()\n",
    "    specificity = tn / (tn + fp)\n",
    "    return specificity\n",
    "\n",
    "# Geometric mean\n",
    "def g_mean(y_true, y_pred):\n",
    "    tn, fp, fn, tp = metrics.confusion_matrix(y_true, y_pred).ravel()\n",
    "    sensitivity = tp / (tp + fn)\n",
    "    specificity = tn / (tn + fp)\n",
    "    return np.sqrt(sensitivity * specificity)\n",
    "\n",
    "# Performance metrics\n",
    "def performanceMetricsDF(metricsObj, yTrain, yPredTrain, yTest, yPredTest):\n",
    "    measures = {\n",
    "        'Accuracy': metricsObj.accuracy_score,\n",
    "        'Precision': metricsObj.precision_score,\n",
    "        'Recall': metricsObj.recall_score,\n",
    "        'F1-score': metricsObj.f1_score,\n",
    "        'Specificity': specificity_score,\n",
    "        'G-Mean': g_mean\n",
    "    }\n",
    "\n",
    "    train_results = [measure_func(yTrain, yPredTrain) if measure_func not in [g_mean, specificity_score] else measure_func(yTrain, yPredTrain) for measure_func in measures.values()]\n",
    "    test_results = [measure_func(yTest, yPredTest) if measure_func not in [g_mean, specificity_score] else measure_func(yTest, yPredTest) for measure_func in measures.values()]\n",
    "\n",
    "    resultsDF = pd.DataFrame({'Measure': measures.keys(), 'Train': train_results, 'Test': test_results})\n",
    "    return resultsDF"
   ]
  },
  {
   "cell_type": "markdown",
   "metadata": {},
   "source": [
    "### **Load the data**"
   ]
  },
  {
   "cell_type": "code",
   "execution_count": 5,
   "metadata": {},
   "outputs": [],
   "source": [
    "# Load the excel file\n",
    "ds = pd.read_excel('campaign.xlsx', engine='openpyxl')"
   ]
  },
  {
   "cell_type": "markdown",
   "metadata": {},
   "source": [
    "### **Dataset first look**"
   ]
  },
  {
   "cell_type": "code",
   "execution_count": 6,
   "metadata": {},
   "outputs": [
    {
     "name": "stdout",
     "output_type": "stream",
     "text": [
      "(2240, 29)\n",
      "Index(['ID', 'Year_Birth', 'Education', 'Marital_Status', 'Income', 'Kidhome',\n",
      "       'Teenhome', 'Dt_Customer', 'Recency', 'MntWines', 'MntFruits',\n",
      "       'MntMeatProducts', 'MntFishProducts', 'MntSweetProducts',\n",
      "       'MntGoldProds', 'NumDealsPurchases', 'NumWebPurchases',\n",
      "       'NumCatalogPurchases', 'NumStorePurchases', 'NumWebVisitsMonth',\n",
      "       'AcceptedCmp3', 'AcceptedCmp4', 'AcceptedCmp5', 'AcceptedCmp1',\n",
      "       'AcceptedCmp2', 'Complain', 'Z_CostContact', 'Z_Revenue', 'Response'],\n",
      "      dtype='object')\n",
      "ID                       int64\n",
      "Year_Birth               int64\n",
      "Education               object\n",
      "Marital_Status          object\n",
      "Income                 float64\n",
      "Kidhome                  int64\n",
      "Teenhome                 int64\n",
      "Dt_Customer             object\n",
      "Recency                  int64\n",
      "MntWines               float64\n",
      "MntFruits              float64\n",
      "MntMeatProducts          int64\n",
      "MntFishProducts          int64\n",
      "MntSweetProducts         int64\n",
      "MntGoldProds           float64\n",
      "NumDealsPurchases        int64\n",
      "NumWebPurchases          int64\n",
      "NumCatalogPurchases      int64\n",
      "NumStorePurchases        int64\n",
      "NumWebVisitsMonth        int64\n",
      "AcceptedCmp3             int64\n",
      "AcceptedCmp4             int64\n",
      "AcceptedCmp5             int64\n",
      "AcceptedCmp1             int64\n",
      "AcceptedCmp2             int64\n",
      "Complain                 int64\n",
      "Z_CostContact            int64\n",
      "Z_Revenue                int64\n",
      "Response                 int64\n",
      "dtype: object\n"
     ]
    },
    {
     "data": {
      "text/html": [
       "<div>\n",
       "<style scoped>\n",
       "    .dataframe tbody tr th:only-of-type {\n",
       "        vertical-align: middle;\n",
       "    }\n",
       "\n",
       "    .dataframe tbody tr th {\n",
       "        vertical-align: top;\n",
       "    }\n",
       "\n",
       "    .dataframe thead th {\n",
       "        text-align: right;\n",
       "    }\n",
       "</style>\n",
       "<table border=\"1\" class=\"dataframe\">\n",
       "  <thead>\n",
       "    <tr style=\"text-align: right;\">\n",
       "      <th></th>\n",
       "      <th>ID</th>\n",
       "      <th>Year_Birth</th>\n",
       "      <th>Education</th>\n",
       "      <th>Marital_Status</th>\n",
       "      <th>Income</th>\n",
       "      <th>Kidhome</th>\n",
       "      <th>Teenhome</th>\n",
       "      <th>Dt_Customer</th>\n",
       "      <th>Recency</th>\n",
       "      <th>MntWines</th>\n",
       "      <th>MntFruits</th>\n",
       "      <th>MntMeatProducts</th>\n",
       "      <th>MntFishProducts</th>\n",
       "      <th>MntSweetProducts</th>\n",
       "      <th>MntGoldProds</th>\n",
       "      <th>NumDealsPurchases</th>\n",
       "      <th>NumWebPurchases</th>\n",
       "      <th>NumCatalogPurchases</th>\n",
       "      <th>NumStorePurchases</th>\n",
       "      <th>NumWebVisitsMonth</th>\n",
       "      <th>AcceptedCmp3</th>\n",
       "      <th>AcceptedCmp4</th>\n",
       "      <th>AcceptedCmp5</th>\n",
       "      <th>AcceptedCmp1</th>\n",
       "      <th>AcceptedCmp2</th>\n",
       "      <th>Complain</th>\n",
       "      <th>Z_CostContact</th>\n",
       "      <th>Z_Revenue</th>\n",
       "      <th>Response</th>\n",
       "    </tr>\n",
       "  </thead>\n",
       "  <tbody>\n",
       "    <tr>\n",
       "      <th>0</th>\n",
       "      <td>5524</td>\n",
       "      <td>1957</td>\n",
       "      <td>Graduation</td>\n",
       "      <td>Single</td>\n",
       "      <td>58138.0</td>\n",
       "      <td>0</td>\n",
       "      <td>0</td>\n",
       "      <td>2012-09-04</td>\n",
       "      <td>58</td>\n",
       "      <td>635.0</td>\n",
       "      <td>88.0</td>\n",
       "      <td>546</td>\n",
       "      <td>172</td>\n",
       "      <td>88</td>\n",
       "      <td>88.0</td>\n",
       "      <td>3</td>\n",
       "      <td>8</td>\n",
       "      <td>10</td>\n",
       "      <td>4</td>\n",
       "      <td>7</td>\n",
       "      <td>0</td>\n",
       "      <td>0</td>\n",
       "      <td>0</td>\n",
       "      <td>0</td>\n",
       "      <td>0</td>\n",
       "      <td>0</td>\n",
       "      <td>3</td>\n",
       "      <td>11</td>\n",
       "      <td>1</td>\n",
       "    </tr>\n",
       "    <tr>\n",
       "      <th>1</th>\n",
       "      <td>2174</td>\n",
       "      <td>1954</td>\n",
       "      <td>Graduation</td>\n",
       "      <td>Single</td>\n",
       "      <td>46344.0</td>\n",
       "      <td>1</td>\n",
       "      <td>1</td>\n",
       "      <td>2014-03-08</td>\n",
       "      <td>38</td>\n",
       "      <td>11.0</td>\n",
       "      <td>1.0</td>\n",
       "      <td>6</td>\n",
       "      <td>2</td>\n",
       "      <td>1</td>\n",
       "      <td>6.0</td>\n",
       "      <td>2</td>\n",
       "      <td>1</td>\n",
       "      <td>1</td>\n",
       "      <td>2</td>\n",
       "      <td>5</td>\n",
       "      <td>0</td>\n",
       "      <td>0</td>\n",
       "      <td>0</td>\n",
       "      <td>0</td>\n",
       "      <td>0</td>\n",
       "      <td>0</td>\n",
       "      <td>3</td>\n",
       "      <td>11</td>\n",
       "      <td>0</td>\n",
       "    </tr>\n",
       "    <tr>\n",
       "      <th>2</th>\n",
       "      <td>4141</td>\n",
       "      <td>1965</td>\n",
       "      <td>Graduation</td>\n",
       "      <td>Together</td>\n",
       "      <td>71613.0</td>\n",
       "      <td>0</td>\n",
       "      <td>0</td>\n",
       "      <td>2013-08-21</td>\n",
       "      <td>26</td>\n",
       "      <td>426.0</td>\n",
       "      <td>49.0</td>\n",
       "      <td>127</td>\n",
       "      <td>111</td>\n",
       "      <td>21</td>\n",
       "      <td>42.0</td>\n",
       "      <td>1</td>\n",
       "      <td>8</td>\n",
       "      <td>2</td>\n",
       "      <td>10</td>\n",
       "      <td>4</td>\n",
       "      <td>0</td>\n",
       "      <td>0</td>\n",
       "      <td>0</td>\n",
       "      <td>0</td>\n",
       "      <td>0</td>\n",
       "      <td>0</td>\n",
       "      <td>3</td>\n",
       "      <td>11</td>\n",
       "      <td>0</td>\n",
       "    </tr>\n",
       "    <tr>\n",
       "      <th>3</th>\n",
       "      <td>6182</td>\n",
       "      <td>1984</td>\n",
       "      <td>Graduation</td>\n",
       "      <td>Together</td>\n",
       "      <td>26646.0</td>\n",
       "      <td>1</td>\n",
       "      <td>0</td>\n",
       "      <td>2014-02-10</td>\n",
       "      <td>26</td>\n",
       "      <td>11.0</td>\n",
       "      <td>4.0</td>\n",
       "      <td>20</td>\n",
       "      <td>10</td>\n",
       "      <td>3</td>\n",
       "      <td>5.0</td>\n",
       "      <td>2</td>\n",
       "      <td>2</td>\n",
       "      <td>0</td>\n",
       "      <td>4</td>\n",
       "      <td>6</td>\n",
       "      <td>0</td>\n",
       "      <td>0</td>\n",
       "      <td>0</td>\n",
       "      <td>0</td>\n",
       "      <td>0</td>\n",
       "      <td>0</td>\n",
       "      <td>3</td>\n",
       "      <td>11</td>\n",
       "      <td>0</td>\n",
       "    </tr>\n",
       "    <tr>\n",
       "      <th>4</th>\n",
       "      <td>5324</td>\n",
       "      <td>1981</td>\n",
       "      <td>PhD</td>\n",
       "      <td>Married</td>\n",
       "      <td>58293.0</td>\n",
       "      <td>1</td>\n",
       "      <td>0</td>\n",
       "      <td>2014-01-19</td>\n",
       "      <td>94</td>\n",
       "      <td>173.0</td>\n",
       "      <td>43.0</td>\n",
       "      <td>118</td>\n",
       "      <td>46</td>\n",
       "      <td>27</td>\n",
       "      <td>15.0</td>\n",
       "      <td>5</td>\n",
       "      <td>5</td>\n",
       "      <td>3</td>\n",
       "      <td>6</td>\n",
       "      <td>5</td>\n",
       "      <td>0</td>\n",
       "      <td>0</td>\n",
       "      <td>0</td>\n",
       "      <td>0</td>\n",
       "      <td>0</td>\n",
       "      <td>0</td>\n",
       "      <td>3</td>\n",
       "      <td>11</td>\n",
       "      <td>0</td>\n",
       "    </tr>\n",
       "  </tbody>\n",
       "</table>\n",
       "</div>"
      ],
      "text/plain": [
       "     ID  Year_Birth   Education Marital_Status   Income  Kidhome  Teenhome  \\\n",
       "0  5524        1957  Graduation         Single  58138.0        0         0   \n",
       "1  2174        1954  Graduation         Single  46344.0        1         1   \n",
       "2  4141        1965  Graduation       Together  71613.0        0         0   \n",
       "3  6182        1984  Graduation       Together  26646.0        1         0   \n",
       "4  5324        1981         PhD        Married  58293.0        1         0   \n",
       "\n",
       "  Dt_Customer  Recency  MntWines  MntFruits  MntMeatProducts  MntFishProducts  \\\n",
       "0  2012-09-04       58     635.0       88.0              546              172   \n",
       "1  2014-03-08       38      11.0        1.0                6                2   \n",
       "2  2013-08-21       26     426.0       49.0              127              111   \n",
       "3  2014-02-10       26      11.0        4.0               20               10   \n",
       "4  2014-01-19       94     173.0       43.0              118               46   \n",
       "\n",
       "   MntSweetProducts  MntGoldProds  NumDealsPurchases  NumWebPurchases  \\\n",
       "0                88          88.0                  3                8   \n",
       "1                 1           6.0                  2                1   \n",
       "2                21          42.0                  1                8   \n",
       "3                 3           5.0                  2                2   \n",
       "4                27          15.0                  5                5   \n",
       "\n",
       "   NumCatalogPurchases  NumStorePurchases  NumWebVisitsMonth  AcceptedCmp3  \\\n",
       "0                   10                  4                  7             0   \n",
       "1                    1                  2                  5             0   \n",
       "2                    2                 10                  4             0   \n",
       "3                    0                  4                  6             0   \n",
       "4                    3                  6                  5             0   \n",
       "\n",
       "   AcceptedCmp4  AcceptedCmp5  AcceptedCmp1  AcceptedCmp2  Complain  \\\n",
       "0             0             0             0             0         0   \n",
       "1             0             0             0             0         0   \n",
       "2             0             0             0             0         0   \n",
       "3             0             0             0             0         0   \n",
       "4             0             0             0             0         0   \n",
       "\n",
       "   Z_CostContact  Z_Revenue  Response  \n",
       "0              3         11         1  \n",
       "1              3         11         0  \n",
       "2              3         11         0  \n",
       "3              3         11         0  \n",
       "4              3         11         0  "
      ]
     },
     "execution_count": 6,
     "metadata": {},
     "output_type": "execute_result"
    }
   ],
   "source": [
    "# Show top 5 rows\n",
    "print(ds.shape)\n",
    "print(ds.columns)\n",
    "print(ds.dtypes)\n",
    "ds.head()"
   ]
  },
  {
   "cell_type": "markdown",
   "metadata": {},
   "source": [
    "### **Reformat the `Dt_Customer` dtype to datetime**"
   ]
  },
  {
   "cell_type": "code",
   "execution_count": 7,
   "metadata": {},
   "outputs": [
    {
     "name": "stdout",
     "output_type": "stream",
     "text": [
      "datetime64[ns]\n"
     ]
    }
   ],
   "source": [
    "# Reformat\n",
    "ds['Dt_Customer'] = pd.to_datetime(ds['Dt_Customer'])\n",
    "\n",
    "# Confirm\n",
    "print(ds['Dt_Customer'].dtype)"
   ]
  },
  {
   "cell_type": "markdown",
   "metadata": {},
   "source": [
    "## **3. DATA PREPARATION**"
   ]
  },
  {
   "cell_type": "code",
   "execution_count": 8,
   "metadata": {},
   "outputs": [
    {
     "name": "stdout",
     "output_type": "stream",
     "text": [
      "Index(['ID', 'Year_Birth', 'Education', 'Marital_Status', 'Income', 'Kidhome',\n",
      "       'Teenhome', 'Dt_Customer', 'Recency', 'MntWines', 'MntFruits',\n",
      "       'MntMeatProducts', 'MntFishProducts', 'MntSweetProducts',\n",
      "       'MntGoldProds', 'NumDealsPurchases', 'NumWebPurchases',\n",
      "       'NumCatalogPurchases', 'NumStorePurchases', 'NumWebVisitsMonth',\n",
      "       'AcceptedCmp3', 'AcceptedCmp4', 'AcceptedCmp5', 'AcceptedCmp1',\n",
      "       'AcceptedCmp2', 'Complain', 'Z_CostContact', 'Z_Revenue', 'Response'],\n",
      "      dtype='object')\n"
     ]
    }
   ],
   "source": [
    "# Create a modeling dataset from the original dataset to prevent data leakage. Apply data cleaning and preprocessing on the copied version\n",
    "# Since the dataset is small and memory usage is not a concern, deep copy is applied\n",
    "X = ds.copy(deep=True)\n",
    "print(X.columns)"
   ]
  },
  {
   "cell_type": "code",
   "execution_count": 9,
   "metadata": {},
   "outputs": [
    {
     "data": {
      "text/plain": [
       "Index(['Year_Birth', 'Education', 'Marital_Status', 'Income', 'Kidhome',\n",
       "       'Teenhome', 'Dt_Customer', 'Recency', 'MntWines', 'MntFruits',\n",
       "       'MntMeatProducts', 'MntFishProducts', 'MntSweetProducts',\n",
       "       'MntGoldProds', 'NumDealsPurchases', 'NumWebPurchases',\n",
       "       'NumCatalogPurchases', 'NumStorePurchases', 'NumWebVisitsMonth',\n",
       "       'AcceptedCmp3', 'AcceptedCmp4', 'AcceptedCmp5', 'AcceptedCmp1',\n",
       "       'AcceptedCmp2', 'Complain', 'Response'],\n",
       "      dtype='object')"
      ]
     },
     "execution_count": 9,
     "metadata": {},
     "output_type": "execute_result"
    }
   ],
   "source": [
    "# Drop the columns that don't provide meaningfull pattern for prediction\n",
    "X.drop(['ID', 'Z_CostContact', 'Z_Revenue'], axis=1, inplace=True)\n",
    "\n",
    "# Confirm\n",
    "X.columns"
   ]
  },
  {
   "cell_type": "markdown",
   "metadata": {},
   "source": [
    "### **Data errors handling**"
   ]
  },
  {
   "cell_type": "markdown",
   "metadata": {},
   "source": [
    "- If you remember from the EDA notebook, we had some data errors in `Dt_Customer` ('2042-11-09', '2041-02-25') and `MntSweetProducts` (2342344, 23423444, 234444) columns. These values were not logical based on the data at hand. For `MntSweetProducts` column, errors will replaced with NaN. Afterwards, they will imputed with median value of the column. Since the data is not normally distributed, median is used as a strategy. Errors in `Dt_Customer` will be dropped. "
   ]
  },
  {
   "cell_type": "markdown",
   "metadata": {},
   "source": [
    "### **Handling `MntSweetProducts` errors** "
   ]
  },
  {
   "cell_type": "code",
   "execution_count": 10,
   "metadata": {},
   "outputs": [
    {
     "name": "stdout",
     "output_type": "stream",
     "text": [
      "Number of rows before data prepatation: (2240, 26)\n"
     ]
    },
    {
     "data": {
      "text/html": [
       "<div>\n",
       "<style scoped>\n",
       "    .dataframe tbody tr th:only-of-type {\n",
       "        vertical-align: middle;\n",
       "    }\n",
       "\n",
       "    .dataframe tbody tr th {\n",
       "        vertical-align: top;\n",
       "    }\n",
       "\n",
       "    .dataframe thead th {\n",
       "        text-align: right;\n",
       "    }\n",
       "</style>\n",
       "<table border=\"1\" class=\"dataframe\">\n",
       "  <thead>\n",
       "    <tr style=\"text-align: right;\">\n",
       "      <th></th>\n",
       "      <th>Year_Birth</th>\n",
       "      <th>Education</th>\n",
       "      <th>Marital_Status</th>\n",
       "      <th>Income</th>\n",
       "      <th>Kidhome</th>\n",
       "      <th>Teenhome</th>\n",
       "      <th>Dt_Customer</th>\n",
       "      <th>Recency</th>\n",
       "      <th>MntWines</th>\n",
       "      <th>MntFruits</th>\n",
       "      <th>MntMeatProducts</th>\n",
       "      <th>MntFishProducts</th>\n",
       "      <th>MntSweetProducts</th>\n",
       "      <th>MntGoldProds</th>\n",
       "      <th>NumDealsPurchases</th>\n",
       "      <th>NumWebPurchases</th>\n",
       "      <th>NumCatalogPurchases</th>\n",
       "      <th>NumStorePurchases</th>\n",
       "      <th>NumWebVisitsMonth</th>\n",
       "      <th>AcceptedCmp3</th>\n",
       "      <th>AcceptedCmp4</th>\n",
       "      <th>AcceptedCmp5</th>\n",
       "      <th>AcceptedCmp1</th>\n",
       "      <th>AcceptedCmp2</th>\n",
       "      <th>Complain</th>\n",
       "      <th>Response</th>\n",
       "    </tr>\n",
       "  </thead>\n",
       "  <tbody>\n",
       "    <tr>\n",
       "      <th>523</th>\n",
       "      <td>1953</td>\n",
       "      <td>Graduation</td>\n",
       "      <td>Married</td>\n",
       "      <td>70503.0</td>\n",
       "      <td>0</td>\n",
       "      <td>0</td>\n",
       "      <td>2012-09-30</td>\n",
       "      <td>73</td>\n",
       "      <td>1379.0</td>\n",
       "      <td>33.0</td>\n",
       "      <td>216</td>\n",
       "      <td>0</td>\n",
       "      <td>2342344</td>\n",
       "      <td>66.0</td>\n",
       "      <td>1</td>\n",
       "      <td>2</td>\n",
       "      <td>4</td>\n",
       "      <td>9</td>\n",
       "      <td>6</td>\n",
       "      <td>0</td>\n",
       "      <td>1</td>\n",
       "      <td>1</td>\n",
       "      <td>0</td>\n",
       "      <td>0</td>\n",
       "      <td>0</td>\n",
       "      <td>0</td>\n",
       "    </tr>\n",
       "    <tr>\n",
       "      <th>563</th>\n",
       "      <td>1970</td>\n",
       "      <td>2n Cycle</td>\n",
       "      <td>Married</td>\n",
       "      <td>62466.0</td>\n",
       "      <td>0</td>\n",
       "      <td>1</td>\n",
       "      <td>2014-01-15</td>\n",
       "      <td>13</td>\n",
       "      <td>129.0</td>\n",
       "      <td>129.0</td>\n",
       "      <td>259</td>\n",
       "      <td>168</td>\n",
       "      <td>234444</td>\n",
       "      <td>83.0</td>\n",
       "      <td>5</td>\n",
       "      <td>6</td>\n",
       "      <td>3</td>\n",
       "      <td>12</td>\n",
       "      <td>4</td>\n",
       "      <td>0</td>\n",
       "      <td>0</td>\n",
       "      <td>0</td>\n",
       "      <td>0</td>\n",
       "      <td>0</td>\n",
       "      <td>0</td>\n",
       "      <td>0</td>\n",
       "    </tr>\n",
       "    <tr>\n",
       "      <th>634</th>\n",
       "      <td>1973</td>\n",
       "      <td>Graduation</td>\n",
       "      <td>Single</td>\n",
       "      <td>83917.0</td>\n",
       "      <td>0</td>\n",
       "      <td>0</td>\n",
       "      <td>2013-04-18</td>\n",
       "      <td>12</td>\n",
       "      <td>514.0</td>\n",
       "      <td>22.0</td>\n",
       "      <td>732</td>\n",
       "      <td>42</td>\n",
       "      <td>23423444</td>\n",
       "      <td>79.0</td>\n",
       "      <td>1</td>\n",
       "      <td>6</td>\n",
       "      <td>7</td>\n",
       "      <td>7</td>\n",
       "      <td>3</td>\n",
       "      <td>0</td>\n",
       "      <td>0</td>\n",
       "      <td>0</td>\n",
       "      <td>0</td>\n",
       "      <td>0</td>\n",
       "      <td>0</td>\n",
       "      <td>1</td>\n",
       "    </tr>\n",
       "  </tbody>\n",
       "</table>\n",
       "</div>"
      ],
      "text/plain": [
       "     Year_Birth   Education Marital_Status   Income  Kidhome  Teenhome  \\\n",
       "523        1953  Graduation        Married  70503.0        0         0   \n",
       "563        1970    2n Cycle        Married  62466.0        0         1   \n",
       "634        1973  Graduation         Single  83917.0        0         0   \n",
       "\n",
       "    Dt_Customer  Recency  MntWines  MntFruits  MntMeatProducts  \\\n",
       "523  2012-09-30       73    1379.0       33.0              216   \n",
       "563  2014-01-15       13     129.0      129.0              259   \n",
       "634  2013-04-18       12     514.0       22.0              732   \n",
       "\n",
       "     MntFishProducts  MntSweetProducts  MntGoldProds  NumDealsPurchases  \\\n",
       "523                0           2342344          66.0                  1   \n",
       "563              168            234444          83.0                  5   \n",
       "634               42          23423444          79.0                  1   \n",
       "\n",
       "     NumWebPurchases  NumCatalogPurchases  NumStorePurchases  \\\n",
       "523                2                    4                  9   \n",
       "563                6                    3                 12   \n",
       "634                6                    7                  7   \n",
       "\n",
       "     NumWebVisitsMonth  AcceptedCmp3  AcceptedCmp4  AcceptedCmp5  \\\n",
       "523                  6             0             1             1   \n",
       "563                  4             0             0             0   \n",
       "634                  3             0             0             0   \n",
       "\n",
       "     AcceptedCmp1  AcceptedCmp2  Complain  Response  \n",
       "523             0             0         0         0  \n",
       "563             0             0         0         0  \n",
       "634             0             0         0         1  "
      ]
     },
     "execution_count": 10,
     "metadata": {},
     "output_type": "execute_result"
    }
   ],
   "source": [
    "# Check the number of rows before handling data errors\n",
    "print(\"Number of rows before data prepatation:\",X.shape)\n",
    "\n",
    "# Filter and select rows containing the error values in the 'MntSweetProducts' column to see clearly\n",
    "rows_containing_errors = X[X['MntSweetProducts'].isin([2342344, 23423444, 234444])]\n",
    "rows_containing_errors"
   ]
  },
  {
   "cell_type": "markdown",
   "metadata": {},
   "source": [
    "Number of data errors in `MntSweetProducts` is 3. So after replacing with NaN, the count of missing values should be 3 as well. "
   ]
  },
  {
   "cell_type": "code",
   "execution_count": 11,
   "metadata": {},
   "outputs": [
    {
     "name": "stdout",
     "output_type": "stream",
     "text": [
      "Number of missing values after replacing errors with nan: 3\n"
     ]
    }
   ],
   "source": [
    "error_values = [2342344, 23423444, 234444]\n",
    "X.MntSweetProducts.replace(error_values, np.nan, inplace=True)\n",
    "\n",
    "# Confirmation, check the missing values after replacing with NaN\n",
    "print(\"Number of missing values after replacing errors with nan:\", X.MntSweetProducts.isnull().sum())"
   ]
  },
  {
   "cell_type": "markdown",
   "metadata": {},
   "source": [
    "Perfect! We replaced the error values with NaN, now we will impute those 3 values with median value of the `MntSweetProducts`. "
   ]
  },
  {
   "cell_type": "code",
   "execution_count": 12,
   "metadata": {},
   "outputs": [
    {
     "name": "stdout",
     "output_type": "stream",
     "text": [
      "Median value of MntSweetProducts column before imputation 8.0\n",
      "Max value of MntSweetProducts column before imputation 263.0\n"
     ]
    }
   ],
   "source": [
    "# Print the median value for MntSweetProducts before imputation\n",
    "print(\"Median value of MntSweetProducts column before imputation\", X.MntSweetProducts.median())\n",
    "print(\"Max value of MntSweetProducts column before imputation\", X.MntSweetProducts.max())"
   ]
  },
  {
   "cell_type": "markdown",
   "metadata": {},
   "source": [
    "Before the imputation median value of the column is 8 and the max value is 263. After the imputation, median and max values have to be same as well."
   ]
  },
  {
   "cell_type": "code",
   "execution_count": 13,
   "metadata": {},
   "outputs": [],
   "source": [
    "# Impute NaN values with median(8) value of the column\n",
    "# KNN Imputer is tried but it was assigned same values all the time even if number of neighbors were changed. The column values was not proper for KNN Imputation. For this reason, we go with median imputation since the data is not normally distributed. \n",
    "imputer = SimpleImputer(strategy='median')\n",
    "X['MntSweetProducts'] = imputer.fit_transform(X[['MntSweetProducts']])"
   ]
  },
  {
   "cell_type": "code",
   "execution_count": 14,
   "metadata": {},
   "outputs": [
    {
     "name": "stdout",
     "output_type": "stream",
     "text": [
      "Median value of MntSweetProducts after imputation: 8.0\n",
      "Max value of MntSweetProducts after imputation: 263.0\n"
     ]
    },
    {
     "data": {
      "text/plain": [
       "523    8.0\n",
       "563    8.0\n",
       "634    8.0\n",
       "Name: MntSweetProducts, dtype: float64"
      ]
     },
     "execution_count": 14,
     "metadata": {},
     "output_type": "execute_result"
    }
   ],
   "source": [
    "# Check the median and the max value after imputation\n",
    "print(\"Median value of MntSweetProducts after imputation:\", X['MntSweetProducts'].median())\n",
    "print(\"Max value of MntSweetProducts after imputation:\", X['MntSweetProducts'].max())\n",
    "\n",
    "# Check if the imputated rows has the 8 as a median value\n",
    "X['MntSweetProducts'].iloc[[523, 563, 634]]"
   ]
  },
  {
   "cell_type": "markdown",
   "metadata": {},
   "source": [
    "Amazing! We are correctly imputed NaN values to median value 8. Corresponding rows has the median value in the `MntSweetProducts` column. We can move to handle `Dt_Customer` errors."
   ]
  },
  {
   "cell_type": "markdown",
   "metadata": {},
   "source": [
    "### **Handling `Dt_Customer` errors**"
   ]
  },
  {
   "cell_type": "code",
   "execution_count": 15,
   "metadata": {},
   "outputs": [
    {
     "data": {
      "text/html": [
       "<div>\n",
       "<style scoped>\n",
       "    .dataframe tbody tr th:only-of-type {\n",
       "        vertical-align: middle;\n",
       "    }\n",
       "\n",
       "    .dataframe tbody tr th {\n",
       "        vertical-align: top;\n",
       "    }\n",
       "\n",
       "    .dataframe thead th {\n",
       "        text-align: right;\n",
       "    }\n",
       "</style>\n",
       "<table border=\"1\" class=\"dataframe\">\n",
       "  <thead>\n",
       "    <tr style=\"text-align: right;\">\n",
       "      <th></th>\n",
       "      <th>Year_Birth</th>\n",
       "      <th>Education</th>\n",
       "      <th>Marital_Status</th>\n",
       "      <th>Income</th>\n",
       "      <th>Kidhome</th>\n",
       "      <th>Teenhome</th>\n",
       "      <th>Dt_Customer</th>\n",
       "      <th>Recency</th>\n",
       "      <th>MntWines</th>\n",
       "      <th>MntFruits</th>\n",
       "      <th>MntMeatProducts</th>\n",
       "      <th>MntFishProducts</th>\n",
       "      <th>MntSweetProducts</th>\n",
       "      <th>MntGoldProds</th>\n",
       "      <th>NumDealsPurchases</th>\n",
       "      <th>NumWebPurchases</th>\n",
       "      <th>NumCatalogPurchases</th>\n",
       "      <th>NumStorePurchases</th>\n",
       "      <th>NumWebVisitsMonth</th>\n",
       "      <th>AcceptedCmp3</th>\n",
       "      <th>AcceptedCmp4</th>\n",
       "      <th>AcceptedCmp5</th>\n",
       "      <th>AcceptedCmp1</th>\n",
       "      <th>AcceptedCmp2</th>\n",
       "      <th>Complain</th>\n",
       "      <th>Response</th>\n",
       "    </tr>\n",
       "  </thead>\n",
       "  <tbody>\n",
       "    <tr>\n",
       "      <th>46</th>\n",
       "      <td>1996</td>\n",
       "      <td>2n Cycle</td>\n",
       "      <td>Married</td>\n",
       "      <td>7500.0</td>\n",
       "      <td>0</td>\n",
       "      <td>0</td>\n",
       "      <td>2042-11-09</td>\n",
       "      <td>24</td>\n",
       "      <td>3.0</td>\n",
       "      <td>18.0</td>\n",
       "      <td>14</td>\n",
       "      <td>15</td>\n",
       "      <td>22.0</td>\n",
       "      <td>50.0</td>\n",
       "      <td>3</td>\n",
       "      <td>3</td>\n",
       "      <td>1</td>\n",
       "      <td>3</td>\n",
       "      <td>9</td>\n",
       "      <td>0</td>\n",
       "      <td>0</td>\n",
       "      <td>0</td>\n",
       "      <td>0</td>\n",
       "      <td>0</td>\n",
       "      <td>0</td>\n",
       "      <td>1</td>\n",
       "    </tr>\n",
       "    <tr>\n",
       "      <th>84</th>\n",
       "      <td>1987</td>\n",
       "      <td>Graduation</td>\n",
       "      <td>Divorced</td>\n",
       "      <td>81361.0</td>\n",
       "      <td>0</td>\n",
       "      <td>0</td>\n",
       "      <td>2041-02-25</td>\n",
       "      <td>18</td>\n",
       "      <td>163.0</td>\n",
       "      <td>23.0</td>\n",
       "      <td>424</td>\n",
       "      <td>27</td>\n",
       "      <td>65.0</td>\n",
       "      <td>76.0</td>\n",
       "      <td>1</td>\n",
       "      <td>3</td>\n",
       "      <td>10</td>\n",
       "      <td>13</td>\n",
       "      <td>1</td>\n",
       "      <td>0</td>\n",
       "      <td>0</td>\n",
       "      <td>0</td>\n",
       "      <td>0</td>\n",
       "      <td>0</td>\n",
       "      <td>0</td>\n",
       "      <td>0</td>\n",
       "    </tr>\n",
       "  </tbody>\n",
       "</table>\n",
       "</div>"
      ],
      "text/plain": [
       "    Year_Birth   Education Marital_Status   Income  Kidhome  Teenhome  \\\n",
       "46        1996    2n Cycle        Married   7500.0        0         0   \n",
       "84        1987  Graduation       Divorced  81361.0        0         0   \n",
       "\n",
       "   Dt_Customer  Recency  MntWines  MntFruits  MntMeatProducts  \\\n",
       "46  2042-11-09       24       3.0       18.0               14   \n",
       "84  2041-02-25       18     163.0       23.0              424   \n",
       "\n",
       "    MntFishProducts  MntSweetProducts  MntGoldProds  NumDealsPurchases  \\\n",
       "46               15              22.0          50.0                  3   \n",
       "84               27              65.0          76.0                  1   \n",
       "\n",
       "    NumWebPurchases  NumCatalogPurchases  NumStorePurchases  \\\n",
       "46                3                    1                  3   \n",
       "84                3                   10                 13   \n",
       "\n",
       "    NumWebVisitsMonth  AcceptedCmp3  AcceptedCmp4  AcceptedCmp5  AcceptedCmp1  \\\n",
       "46                  9             0             0             0             0   \n",
       "84                  1             0             0             0             0   \n",
       "\n",
       "    AcceptedCmp2  Complain  Response  \n",
       "46             0         0         1  \n",
       "84             0         0         0  "
      ]
     },
     "execution_count": 15,
     "metadata": {},
     "output_type": "execute_result"
    }
   ],
   "source": [
    "# Filter and find rows with the error in the 'Dt_Customer' column\n",
    "rows_to_remove = X[(X['Dt_Customer'] == pd.to_datetime('2042-11-09')) | (X['Dt_Customer'] == pd.to_datetime('2041-02-25'))]\n",
    "rows_to_remove"
   ]
  },
  {
   "cell_type": "markdown",
   "metadata": {},
   "source": [
    "As we can see, there are 2 errors in `Dt_Customer`. Maybe those errors were only a typo, for instance, instead of writing 2012 (--> 2042) or 2011 (--> 2041), it's written current dates. Since it is not sure and number of errors less for a concern, they will be dropped."
   ]
  },
  {
   "cell_type": "code",
   "execution_count": 16,
   "metadata": {},
   "outputs": [
    {
     "name": "stdout",
     "output_type": "stream",
     "text": [
      "Max date before dropping: 2042-11-09 00:00:00\n",
      "Max date after dropping: 2014-06-29 00:00:00\n",
      "(2238, 26)\n"
     ]
    }
   ],
   "source": [
    "# Check max date before dropping \n",
    "print(\"Max date before dropping:\", X['Dt_Customer'].max())\n",
    "\n",
    "# Drop the rows containing error values \n",
    "X.drop(rows_to_remove.index, inplace=True)\n",
    "\n",
    "# Check max date after dropping \n",
    "print(\"Max date after dropping:\", X['Dt_Customer'].max())\n",
    "\n",
    "# Check the number of rows after dropping\n",
    "print(X.shape)"
   ]
  },
  {
   "cell_type": "markdown",
   "metadata": {},
   "source": [
    "Number of rows were 2040 in the beginning of data preparation. 2 rows are successfully dropped. It is always good to make sure everything is fine with the data step by step."
   ]
  },
  {
   "cell_type": "markdown",
   "metadata": {},
   "source": [
    "##### **Remove extreme outliers**"
   ]
  },
  {
   "cell_type": "code",
   "execution_count": 17,
   "metadata": {},
   "outputs": [
    {
     "data": {
      "text/plain": [
       "(2215, 26)"
      ]
     },
     "execution_count": 17,
     "metadata": {},
     "output_type": "execute_result"
    }
   ],
   "source": [
    "# Define continuous columns \n",
    "continuous_cols =  ['Income',\n",
    "                    'Recency',\n",
    "                    'MntWines', \n",
    "                    'MntFruits', \n",
    "                    'MntMeatProducts', \n",
    "                    'MntFishProducts', \n",
    "                    'MntSweetProducts',\n",
    "                    'MntGoldProds', \n",
    "                    'NumDealsPurchases', \n",
    "                    'NumWebPurchases', \n",
    "                    'NumCatalogPurchases', \n",
    "                    'NumStorePurchases', \n",
    "                    'NumWebVisitsMonth']\n",
    "\n",
    "# Loop for all the columns in continuous columns\n",
    "for col in continuous_cols:\n",
    "    Q1, Q3 = X[col].quantile([0.10, 0.90]) # Quantile range     # Different ranges were tried by considering not losing too much data. Model had the best results with the range 0.10-0.90\n",
    "    IQR = Q3 - Q1 # Calculate IQR\n",
    "    lower_fence = Q1 - 1.5 * IQR # Define lower fence\n",
    "    upper_fence = Q3 + 1.5 * IQR # Define upper fence\n",
    "\n",
    "    # Store the values under lower fence and above upper fence as outliers\n",
    "    outliers = X[(X[col] < lower_fence) | (X[col] > upper_fence)].index \n",
    "\n",
    "    # Drop outliers\n",
    "    X.drop(outliers, inplace=True)\n",
    "\n",
    "# Check how many rows removed\n",
    "X.shape"
   ]
  },
  {
   "cell_type": "markdown",
   "metadata": {},
   "source": [
    "Before removing the outliers, number of rows were 2238. 23 data points were dropped as outliers between the range (0.10, 0.90). By considering not losing much information, it is tried to reduce the effect of outliers."
   ]
  },
  {
   "cell_type": "markdown",
   "metadata": {},
   "source": [
    "### **KNN - Missing value imputation for `Income`, `MntGoldProds`, `MntFruits`, `MntWines` columns**\n"
   ]
  },
  {
   "cell_type": "code",
   "execution_count": 18,
   "metadata": {},
   "outputs": [
    {
     "data": {
      "text/html": [
       "<div>\n",
       "<style scoped>\n",
       "    .dataframe tbody tr th:only-of-type {\n",
       "        vertical-align: middle;\n",
       "    }\n",
       "\n",
       "    .dataframe tbody tr th {\n",
       "        vertical-align: top;\n",
       "    }\n",
       "\n",
       "    .dataframe thead th {\n",
       "        text-align: right;\n",
       "    }\n",
       "</style>\n",
       "<table border=\"1\" class=\"dataframe\">\n",
       "  <thead>\n",
       "    <tr style=\"text-align: right;\">\n",
       "      <th></th>\n",
       "      <th>Income</th>\n",
       "      <th>MntGoldProds</th>\n",
       "      <th>MntFruits</th>\n",
       "      <th>MntWines</th>\n",
       "    </tr>\n",
       "  </thead>\n",
       "  <tbody>\n",
       "    <tr>\n",
       "      <th>count</th>\n",
       "      <td>2194.000000</td>\n",
       "      <td>2163.000000</td>\n",
       "      <td>2213.000000</td>\n",
       "      <td>2212.000000</td>\n",
       "    </tr>\n",
       "    <tr>\n",
       "      <th>mean</th>\n",
       "      <td>51957.393801</td>\n",
       "      <td>44.275543</td>\n",
       "      <td>26.434704</td>\n",
       "      <td>305.386076</td>\n",
       "    </tr>\n",
       "    <tr>\n",
       "      <th>std</th>\n",
       "      <td>21001.469999</td>\n",
       "      <td>51.480054</td>\n",
       "      <td>39.861218</td>\n",
       "      <td>337.446458</td>\n",
       "    </tr>\n",
       "    <tr>\n",
       "      <th>min</th>\n",
       "      <td>3502.000000</td>\n",
       "      <td>0.000000</td>\n",
       "      <td>0.000000</td>\n",
       "      <td>0.000000</td>\n",
       "    </tr>\n",
       "    <tr>\n",
       "      <th>25%</th>\n",
       "      <td>35422.250000</td>\n",
       "      <td>9.000000</td>\n",
       "      <td>2.000000</td>\n",
       "      <td>24.000000</td>\n",
       "    </tr>\n",
       "    <tr>\n",
       "      <th>50%</th>\n",
       "      <td>51371.000000</td>\n",
       "      <td>25.000000</td>\n",
       "      <td>8.000000</td>\n",
       "      <td>176.000000</td>\n",
       "    </tr>\n",
       "    <tr>\n",
       "      <th>75%</th>\n",
       "      <td>68487.000000</td>\n",
       "      <td>57.000000</td>\n",
       "      <td>33.000000</td>\n",
       "      <td>505.000000</td>\n",
       "    </tr>\n",
       "    <tr>\n",
       "      <th>max</th>\n",
       "      <td>162397.000000</td>\n",
       "      <td>262.000000</td>\n",
       "      <td>199.000000</td>\n",
       "      <td>1493.000000</td>\n",
       "    </tr>\n",
       "  </tbody>\n",
       "</table>\n",
       "</div>"
      ],
      "text/plain": [
       "              Income  MntGoldProds    MntFruits     MntWines\n",
       "count    2194.000000   2163.000000  2213.000000  2212.000000\n",
       "mean    51957.393801     44.275543    26.434704   305.386076\n",
       "std     21001.469999     51.480054    39.861218   337.446458\n",
       "min      3502.000000      0.000000     0.000000     0.000000\n",
       "25%     35422.250000      9.000000     2.000000    24.000000\n",
       "50%     51371.000000     25.000000     8.000000   176.000000\n",
       "75%     68487.000000     57.000000    33.000000   505.000000\n",
       "max    162397.000000    262.000000   199.000000  1493.000000"
      ]
     },
     "execution_count": 18,
     "metadata": {},
     "output_type": "execute_result"
    }
   ],
   "source": [
    "# Check summary statistics for the columns to be imputed before imputation\n",
    "X[['Income', 'MntGoldProds', 'MntFruits', 'MntWines']].describe()"
   ]
  },
  {
   "cell_type": "code",
   "execution_count": 19,
   "metadata": {},
   "outputs": [
    {
     "data": {
      "text/html": [
       "<div>\n",
       "<style scoped>\n",
       "    .dataframe tbody tr th:only-of-type {\n",
       "        vertical-align: middle;\n",
       "    }\n",
       "\n",
       "    .dataframe tbody tr th {\n",
       "        vertical-align: top;\n",
       "    }\n",
       "\n",
       "    .dataframe thead th {\n",
       "        text-align: right;\n",
       "    }\n",
       "</style>\n",
       "<table border=\"1\" class=\"dataframe\">\n",
       "  <thead>\n",
       "    <tr style=\"text-align: right;\">\n",
       "      <th></th>\n",
       "      <th>Year_Birth</th>\n",
       "      <th>Education</th>\n",
       "      <th>Marital_Status</th>\n",
       "      <th>Income</th>\n",
       "      <th>Kidhome</th>\n",
       "      <th>Teenhome</th>\n",
       "      <th>Dt_Customer</th>\n",
       "      <th>Recency</th>\n",
       "      <th>MntWines</th>\n",
       "      <th>MntFruits</th>\n",
       "      <th>MntMeatProducts</th>\n",
       "      <th>MntFishProducts</th>\n",
       "      <th>MntSweetProducts</th>\n",
       "      <th>MntGoldProds</th>\n",
       "      <th>NumDealsPurchases</th>\n",
       "      <th>NumWebPurchases</th>\n",
       "      <th>NumCatalogPurchases</th>\n",
       "      <th>NumStorePurchases</th>\n",
       "      <th>NumWebVisitsMonth</th>\n",
       "      <th>AcceptedCmp3</th>\n",
       "      <th>AcceptedCmp4</th>\n",
       "      <th>AcceptedCmp5</th>\n",
       "      <th>AcceptedCmp1</th>\n",
       "      <th>AcceptedCmp2</th>\n",
       "      <th>Complain</th>\n",
       "      <th>Response</th>\n",
       "    </tr>\n",
       "  </thead>\n",
       "  <tbody>\n",
       "    <tr>\n",
       "      <th>10</th>\n",
       "      <td>1983</td>\n",
       "      <td>Graduation</td>\n",
       "      <td>Married</td>\n",
       "      <td>NaN</td>\n",
       "      <td>1</td>\n",
       "      <td>0</td>\n",
       "      <td>2013-11-15</td>\n",
       "      <td>11</td>\n",
       "      <td>5.0</td>\n",
       "      <td>5.0</td>\n",
       "      <td>6</td>\n",
       "      <td>0</td>\n",
       "      <td>2.0</td>\n",
       "      <td>1.0</td>\n",
       "      <td>1</td>\n",
       "      <td>1</td>\n",
       "      <td>0</td>\n",
       "      <td>2</td>\n",
       "      <td>7</td>\n",
       "      <td>0</td>\n",
       "      <td>0</td>\n",
       "      <td>0</td>\n",
       "      <td>0</td>\n",
       "      <td>0</td>\n",
       "      <td>0</td>\n",
       "      <td>0</td>\n",
       "    </tr>\n",
       "    <tr>\n",
       "      <th>43</th>\n",
       "      <td>1959</td>\n",
       "      <td>PhD</td>\n",
       "      <td>Single</td>\n",
       "      <td>NaN</td>\n",
       "      <td>0</td>\n",
       "      <td>0</td>\n",
       "      <td>2013-11-05</td>\n",
       "      <td>80</td>\n",
       "      <td>81.0</td>\n",
       "      <td>11.0</td>\n",
       "      <td>50</td>\n",
       "      <td>3</td>\n",
       "      <td>2.0</td>\n",
       "      <td>39.0</td>\n",
       "      <td>1</td>\n",
       "      <td>1</td>\n",
       "      <td>3</td>\n",
       "      <td>4</td>\n",
       "      <td>2</td>\n",
       "      <td>0</td>\n",
       "      <td>0</td>\n",
       "      <td>0</td>\n",
       "      <td>0</td>\n",
       "      <td>0</td>\n",
       "      <td>0</td>\n",
       "      <td>0</td>\n",
       "    </tr>\n",
       "    <tr>\n",
       "      <th>48</th>\n",
       "      <td>1951</td>\n",
       "      <td>Graduation</td>\n",
       "      <td>Single</td>\n",
       "      <td>NaN</td>\n",
       "      <td>2</td>\n",
       "      <td>1</td>\n",
       "      <td>2014-01-01</td>\n",
       "      <td>96</td>\n",
       "      <td>48.0</td>\n",
       "      <td>5.0</td>\n",
       "      <td>48</td>\n",
       "      <td>6</td>\n",
       "      <td>10.0</td>\n",
       "      <td>7.0</td>\n",
       "      <td>3</td>\n",
       "      <td>2</td>\n",
       "      <td>1</td>\n",
       "      <td>4</td>\n",
       "      <td>6</td>\n",
       "      <td>0</td>\n",
       "      <td>0</td>\n",
       "      <td>0</td>\n",
       "      <td>0</td>\n",
       "      <td>0</td>\n",
       "      <td>0</td>\n",
       "      <td>0</td>\n",
       "    </tr>\n",
       "    <tr>\n",
       "      <th>58</th>\n",
       "      <td>1982</td>\n",
       "      <td>Graduation</td>\n",
       "      <td>Single</td>\n",
       "      <td>NaN</td>\n",
       "      <td>1</td>\n",
       "      <td>0</td>\n",
       "      <td>2013-06-17</td>\n",
       "      <td>57</td>\n",
       "      <td>11.0</td>\n",
       "      <td>3.0</td>\n",
       "      <td>22</td>\n",
       "      <td>2</td>\n",
       "      <td>2.0</td>\n",
       "      <td>6.0</td>\n",
       "      <td>2</td>\n",
       "      <td>2</td>\n",
       "      <td>0</td>\n",
       "      <td>3</td>\n",
       "      <td>6</td>\n",
       "      <td>0</td>\n",
       "      <td>0</td>\n",
       "      <td>0</td>\n",
       "      <td>0</td>\n",
       "      <td>0</td>\n",
       "      <td>0</td>\n",
       "      <td>0</td>\n",
       "    </tr>\n",
       "    <tr>\n",
       "      <th>71</th>\n",
       "      <td>1973</td>\n",
       "      <td>2n Cycle</td>\n",
       "      <td>Married</td>\n",
       "      <td>NaN</td>\n",
       "      <td>1</td>\n",
       "      <td>0</td>\n",
       "      <td>2012-09-14</td>\n",
       "      <td>25</td>\n",
       "      <td>25.0</td>\n",
       "      <td>3.0</td>\n",
       "      <td>43</td>\n",
       "      <td>17</td>\n",
       "      <td>4.0</td>\n",
       "      <td>17.0</td>\n",
       "      <td>3</td>\n",
       "      <td>3</td>\n",
       "      <td>0</td>\n",
       "      <td>3</td>\n",
       "      <td>8</td>\n",
       "      <td>0</td>\n",
       "      <td>0</td>\n",
       "      <td>0</td>\n",
       "      <td>0</td>\n",
       "      <td>0</td>\n",
       "      <td>0</td>\n",
       "      <td>0</td>\n",
       "    </tr>\n",
       "  </tbody>\n",
       "</table>\n",
       "</div>"
      ],
      "text/plain": [
       "    Year_Birth   Education Marital_Status  Income  Kidhome  Teenhome  \\\n",
       "10        1983  Graduation        Married     NaN        1         0   \n",
       "43        1959         PhD         Single     NaN        0         0   \n",
       "48        1951  Graduation         Single     NaN        2         1   \n",
       "58        1982  Graduation         Single     NaN        1         0   \n",
       "71        1973    2n Cycle        Married     NaN        1         0   \n",
       "\n",
       "   Dt_Customer  Recency  MntWines  MntFruits  MntMeatProducts  \\\n",
       "10  2013-11-15       11       5.0        5.0                6   \n",
       "43  2013-11-05       80      81.0       11.0               50   \n",
       "48  2014-01-01       96      48.0        5.0               48   \n",
       "58  2013-06-17       57      11.0        3.0               22   \n",
       "71  2012-09-14       25      25.0        3.0               43   \n",
       "\n",
       "    MntFishProducts  MntSweetProducts  MntGoldProds  NumDealsPurchases  \\\n",
       "10                0               2.0           1.0                  1   \n",
       "43                3               2.0          39.0                  1   \n",
       "48                6              10.0           7.0                  3   \n",
       "58                2               2.0           6.0                  2   \n",
       "71               17               4.0          17.0                  3   \n",
       "\n",
       "    NumWebPurchases  NumCatalogPurchases  NumStorePurchases  \\\n",
       "10                1                    0                  2   \n",
       "43                1                    3                  4   \n",
       "48                2                    1                  4   \n",
       "58                2                    0                  3   \n",
       "71                3                    0                  3   \n",
       "\n",
       "    NumWebVisitsMonth  AcceptedCmp3  AcceptedCmp4  AcceptedCmp5  AcceptedCmp1  \\\n",
       "10                  7             0             0             0             0   \n",
       "43                  2             0             0             0             0   \n",
       "48                  6             0             0             0             0   \n",
       "58                  6             0             0             0             0   \n",
       "71                  8             0             0             0             0   \n",
       "\n",
       "    AcceptedCmp2  Complain  Response  \n",
       "10             0         0         0  \n",
       "43             0         0         0  \n",
       "48             0         0         0  \n",
       "58             0         0         0  \n",
       "71             0         0         0  "
      ]
     },
     "execution_count": 19,
     "metadata": {},
     "output_type": "execute_result"
    }
   ],
   "source": [
    "# Observe rows with missing values in the 'Income' column before imputation\n",
    "# Row 10, 43, 48, 58 and 71 has the missing value in 'Income' column\n",
    "missing_income_rows = X[X['Income'].isnull()]\n",
    "missing_income_rows.head()"
   ]
  },
  {
   "cell_type": "code",
   "execution_count": 20,
   "metadata": {},
   "outputs": [
    {
     "data": {
      "text/html": [
       "<div>\n",
       "<style scoped>\n",
       "    .dataframe tbody tr th:only-of-type {\n",
       "        vertical-align: middle;\n",
       "    }\n",
       "\n",
       "    .dataframe tbody tr th {\n",
       "        vertical-align: top;\n",
       "    }\n",
       "\n",
       "    .dataframe thead th {\n",
       "        text-align: right;\n",
       "    }\n",
       "</style>\n",
       "<table border=\"1\" class=\"dataframe\">\n",
       "  <thead>\n",
       "    <tr style=\"text-align: right;\">\n",
       "      <th></th>\n",
       "      <th>Year_Birth</th>\n",
       "      <th>Education</th>\n",
       "      <th>Marital_Status</th>\n",
       "      <th>Income</th>\n",
       "      <th>Kidhome</th>\n",
       "      <th>Teenhome</th>\n",
       "      <th>Dt_Customer</th>\n",
       "      <th>Recency</th>\n",
       "      <th>MntWines</th>\n",
       "      <th>MntFruits</th>\n",
       "      <th>MntMeatProducts</th>\n",
       "      <th>MntFishProducts</th>\n",
       "      <th>MntSweetProducts</th>\n",
       "      <th>MntGoldProds</th>\n",
       "      <th>NumDealsPurchases</th>\n",
       "      <th>NumWebPurchases</th>\n",
       "      <th>NumCatalogPurchases</th>\n",
       "      <th>NumStorePurchases</th>\n",
       "      <th>NumWebVisitsMonth</th>\n",
       "      <th>AcceptedCmp3</th>\n",
       "      <th>AcceptedCmp4</th>\n",
       "      <th>AcceptedCmp5</th>\n",
       "      <th>AcceptedCmp1</th>\n",
       "      <th>AcceptedCmp2</th>\n",
       "      <th>Complain</th>\n",
       "      <th>Response</th>\n",
       "    </tr>\n",
       "  </thead>\n",
       "  <tbody>\n",
       "    <tr>\n",
       "      <th>613</th>\n",
       "      <td>1967</td>\n",
       "      <td>Graduation</td>\n",
       "      <td>Married</td>\n",
       "      <td>22574.0</td>\n",
       "      <td>2</td>\n",
       "      <td>1</td>\n",
       "      <td>2013-10-28</td>\n",
       "      <td>28</td>\n",
       "      <td>25.0</td>\n",
       "      <td>0.0</td>\n",
       "      <td>8</td>\n",
       "      <td>2</td>\n",
       "      <td>0.0</td>\n",
       "      <td>NaN</td>\n",
       "      <td>2</td>\n",
       "      <td>2</td>\n",
       "      <td>0</td>\n",
       "      <td>3</td>\n",
       "      <td>7</td>\n",
       "      <td>0</td>\n",
       "      <td>0</td>\n",
       "      <td>0</td>\n",
       "      <td>0</td>\n",
       "      <td>0</td>\n",
       "      <td>0</td>\n",
       "      <td>0</td>\n",
       "    </tr>\n",
       "    <tr>\n",
       "      <th>614</th>\n",
       "      <td>1969</td>\n",
       "      <td>PhD</td>\n",
       "      <td>Single</td>\n",
       "      <td>48240.0</td>\n",
       "      <td>0</td>\n",
       "      <td>0</td>\n",
       "      <td>2012-11-09</td>\n",
       "      <td>73</td>\n",
       "      <td>389.0</td>\n",
       "      <td>91.0</td>\n",
       "      <td>248</td>\n",
       "      <td>64</td>\n",
       "      <td>49.0</td>\n",
       "      <td>NaN</td>\n",
       "      <td>3</td>\n",
       "      <td>6</td>\n",
       "      <td>3</td>\n",
       "      <td>13</td>\n",
       "      <td>5</td>\n",
       "      <td>0</td>\n",
       "      <td>0</td>\n",
       "      <td>0</td>\n",
       "      <td>0</td>\n",
       "      <td>0</td>\n",
       "      <td>0</td>\n",
       "      <td>1</td>\n",
       "    </tr>\n",
       "    <tr>\n",
       "      <th>615</th>\n",
       "      <td>1974</td>\n",
       "      <td>Graduation</td>\n",
       "      <td>Married</td>\n",
       "      <td>45837.0</td>\n",
       "      <td>1</td>\n",
       "      <td>1</td>\n",
       "      <td>2013-07-26</td>\n",
       "      <td>88</td>\n",
       "      <td>215.0</td>\n",
       "      <td>13.0</td>\n",
       "      <td>87</td>\n",
       "      <td>17</td>\n",
       "      <td>17.0</td>\n",
       "      <td>NaN</td>\n",
       "      <td>5</td>\n",
       "      <td>6</td>\n",
       "      <td>2</td>\n",
       "      <td>5</td>\n",
       "      <td>7</td>\n",
       "      <td>0</td>\n",
       "      <td>0</td>\n",
       "      <td>0</td>\n",
       "      <td>0</td>\n",
       "      <td>0</td>\n",
       "      <td>0</td>\n",
       "      <td>0</td>\n",
       "    </tr>\n",
       "    <tr>\n",
       "      <th>616</th>\n",
       "      <td>1965</td>\n",
       "      <td>Master</td>\n",
       "      <td>Single</td>\n",
       "      <td>35791.0</td>\n",
       "      <td>2</td>\n",
       "      <td>1</td>\n",
       "      <td>2013-05-06</td>\n",
       "      <td>94</td>\n",
       "      <td>27.0</td>\n",
       "      <td>0.0</td>\n",
       "      <td>5</td>\n",
       "      <td>0</td>\n",
       "      <td>0.0</td>\n",
       "      <td>NaN</td>\n",
       "      <td>2</td>\n",
       "      <td>1</td>\n",
       "      <td>0</td>\n",
       "      <td>3</td>\n",
       "      <td>8</td>\n",
       "      <td>0</td>\n",
       "      <td>0</td>\n",
       "      <td>0</td>\n",
       "      <td>0</td>\n",
       "      <td>0</td>\n",
       "      <td>0</td>\n",
       "      <td>0</td>\n",
       "    </tr>\n",
       "    <tr>\n",
       "      <th>617</th>\n",
       "      <td>1976</td>\n",
       "      <td>PhD</td>\n",
       "      <td>Together</td>\n",
       "      <td>162397.0</td>\n",
       "      <td>1</td>\n",
       "      <td>1</td>\n",
       "      <td>2013-06-03</td>\n",
       "      <td>31</td>\n",
       "      <td>85.0</td>\n",
       "      <td>1.0</td>\n",
       "      <td>16</td>\n",
       "      <td>2</td>\n",
       "      <td>1.0</td>\n",
       "      <td>NaN</td>\n",
       "      <td>0</td>\n",
       "      <td>0</td>\n",
       "      <td>0</td>\n",
       "      <td>1</td>\n",
       "      <td>1</td>\n",
       "      <td>0</td>\n",
       "      <td>0</td>\n",
       "      <td>0</td>\n",
       "      <td>0</td>\n",
       "      <td>0</td>\n",
       "      <td>0</td>\n",
       "      <td>0</td>\n",
       "    </tr>\n",
       "  </tbody>\n",
       "</table>\n",
       "</div>"
      ],
      "text/plain": [
       "     Year_Birth   Education Marital_Status    Income  Kidhome  Teenhome  \\\n",
       "613        1967  Graduation        Married   22574.0        2         1   \n",
       "614        1969         PhD         Single   48240.0        0         0   \n",
       "615        1974  Graduation        Married   45837.0        1         1   \n",
       "616        1965      Master         Single   35791.0        2         1   \n",
       "617        1976         PhD       Together  162397.0        1         1   \n",
       "\n",
       "    Dt_Customer  Recency  MntWines  MntFruits  MntMeatProducts  \\\n",
       "613  2013-10-28       28      25.0        0.0                8   \n",
       "614  2012-11-09       73     389.0       91.0              248   \n",
       "615  2013-07-26       88     215.0       13.0               87   \n",
       "616  2013-05-06       94      27.0        0.0                5   \n",
       "617  2013-06-03       31      85.0        1.0               16   \n",
       "\n",
       "     MntFishProducts  MntSweetProducts  MntGoldProds  NumDealsPurchases  \\\n",
       "613                2               0.0           NaN                  2   \n",
       "614               64              49.0           NaN                  3   \n",
       "615               17              17.0           NaN                  5   \n",
       "616                0               0.0           NaN                  2   \n",
       "617                2               1.0           NaN                  0   \n",
       "\n",
       "     NumWebPurchases  NumCatalogPurchases  NumStorePurchases  \\\n",
       "613                2                    0                  3   \n",
       "614                6                    3                 13   \n",
       "615                6                    2                  5   \n",
       "616                1                    0                  3   \n",
       "617                0                    0                  1   \n",
       "\n",
       "     NumWebVisitsMonth  AcceptedCmp3  AcceptedCmp4  AcceptedCmp5  \\\n",
       "613                  7             0             0             0   \n",
       "614                  5             0             0             0   \n",
       "615                  7             0             0             0   \n",
       "616                  8             0             0             0   \n",
       "617                  1             0             0             0   \n",
       "\n",
       "     AcceptedCmp1  AcceptedCmp2  Complain  Response  \n",
       "613             0             0         0         0  \n",
       "614             0             0         0         1  \n",
       "615             0             0         0         0  \n",
       "616             0             0         0         0  \n",
       "617             0             0         0         0  "
      ]
     },
     "execution_count": 20,
     "metadata": {},
     "output_type": "execute_result"
    }
   ],
   "source": [
    "# Observe rows with missing values in the 'MntGoldProds' column before imputation\n",
    "# Row 613, 614, 615, 616 and 617 has the missing value in 'MntGoldProds' column\n",
    "missing_gold_rows = X[X['MntGoldProds'].isnull()]\n",
    "missing_gold_rows.head(5)"
   ]
  },
  {
   "cell_type": "code",
   "execution_count": 21,
   "metadata": {},
   "outputs": [
    {
     "data": {
      "text/html": [
       "<div>\n",
       "<style scoped>\n",
       "    .dataframe tbody tr th:only-of-type {\n",
       "        vertical-align: middle;\n",
       "    }\n",
       "\n",
       "    .dataframe tbody tr th {\n",
       "        vertical-align: top;\n",
       "    }\n",
       "\n",
       "    .dataframe thead th {\n",
       "        text-align: right;\n",
       "    }\n",
       "</style>\n",
       "<table border=\"1\" class=\"dataframe\">\n",
       "  <thead>\n",
       "    <tr style=\"text-align: right;\">\n",
       "      <th></th>\n",
       "      <th>Year_Birth</th>\n",
       "      <th>Education</th>\n",
       "      <th>Marital_Status</th>\n",
       "      <th>Income</th>\n",
       "      <th>Kidhome</th>\n",
       "      <th>Teenhome</th>\n",
       "      <th>Dt_Customer</th>\n",
       "      <th>Recency</th>\n",
       "      <th>MntWines</th>\n",
       "      <th>MntFruits</th>\n",
       "      <th>MntMeatProducts</th>\n",
       "      <th>MntFishProducts</th>\n",
       "      <th>MntSweetProducts</th>\n",
       "      <th>MntGoldProds</th>\n",
       "      <th>NumDealsPurchases</th>\n",
       "      <th>NumWebPurchases</th>\n",
       "      <th>NumCatalogPurchases</th>\n",
       "      <th>NumStorePurchases</th>\n",
       "      <th>NumWebVisitsMonth</th>\n",
       "      <th>AcceptedCmp3</th>\n",
       "      <th>AcceptedCmp4</th>\n",
       "      <th>AcceptedCmp5</th>\n",
       "      <th>AcceptedCmp1</th>\n",
       "      <th>AcceptedCmp2</th>\n",
       "      <th>Complain</th>\n",
       "      <th>Response</th>\n",
       "    </tr>\n",
       "  </thead>\n",
       "  <tbody>\n",
       "    <tr>\n",
       "      <th>336</th>\n",
       "      <td>1968</td>\n",
       "      <td>Graduation</td>\n",
       "      <td>Divorced</td>\n",
       "      <td>75693.0</td>\n",
       "      <td>0</td>\n",
       "      <td>0</td>\n",
       "      <td>2012-12-06</td>\n",
       "      <td>10</td>\n",
       "      <td>797.0</td>\n",
       "      <td>NaN</td>\n",
       "      <td>293</td>\n",
       "      <td>72</td>\n",
       "      <td>97.0</td>\n",
       "      <td>30.0</td>\n",
       "      <td>1</td>\n",
       "      <td>11</td>\n",
       "      <td>4</td>\n",
       "      <td>6</td>\n",
       "      <td>4</td>\n",
       "      <td>0</td>\n",
       "      <td>1</td>\n",
       "      <td>1</td>\n",
       "      <td>1</td>\n",
       "      <td>0</td>\n",
       "      <td>0</td>\n",
       "      <td>1</td>\n",
       "    </tr>\n",
       "    <tr>\n",
       "      <th>373</th>\n",
       "      <td>1966</td>\n",
       "      <td>Graduation</td>\n",
       "      <td>Single</td>\n",
       "      <td>63810.0</td>\n",
       "      <td>0</td>\n",
       "      <td>1</td>\n",
       "      <td>2012-11-11</td>\n",
       "      <td>45</td>\n",
       "      <td>977.0</td>\n",
       "      <td>NaN</td>\n",
       "      <td>253</td>\n",
       "      <td>16</td>\n",
       "      <td>12.0</td>\n",
       "      <td>101.0</td>\n",
       "      <td>4</td>\n",
       "      <td>4</td>\n",
       "      <td>3</td>\n",
       "      <td>12</td>\n",
       "      <td>8</td>\n",
       "      <td>0</td>\n",
       "      <td>1</td>\n",
       "      <td>0</td>\n",
       "      <td>0</td>\n",
       "      <td>0</td>\n",
       "      <td>0</td>\n",
       "      <td>0</td>\n",
       "    </tr>\n",
       "  </tbody>\n",
       "</table>\n",
       "</div>"
      ],
      "text/plain": [
       "     Year_Birth   Education Marital_Status   Income  Kidhome  Teenhome  \\\n",
       "336        1968  Graduation       Divorced  75693.0        0         0   \n",
       "373        1966  Graduation         Single  63810.0        0         1   \n",
       "\n",
       "    Dt_Customer  Recency  MntWines  MntFruits  MntMeatProducts  \\\n",
       "336  2012-12-06       10     797.0        NaN              293   \n",
       "373  2012-11-11       45     977.0        NaN              253   \n",
       "\n",
       "     MntFishProducts  MntSweetProducts  MntGoldProds  NumDealsPurchases  \\\n",
       "336               72              97.0          30.0                  1   \n",
       "373               16              12.0         101.0                  4   \n",
       "\n",
       "     NumWebPurchases  NumCatalogPurchases  NumStorePurchases  \\\n",
       "336               11                    4                  6   \n",
       "373                4                    3                 12   \n",
       "\n",
       "     NumWebVisitsMonth  AcceptedCmp3  AcceptedCmp4  AcceptedCmp5  \\\n",
       "336                  4             0             1             1   \n",
       "373                  8             0             1             0   \n",
       "\n",
       "     AcceptedCmp1  AcceptedCmp2  Complain  Response  \n",
       "336             1             0         0         1  \n",
       "373             0             0         0         0  "
      ]
     },
     "execution_count": 21,
     "metadata": {},
     "output_type": "execute_result"
    }
   ],
   "source": [
    "# Observe rows with missing values in the 'MntFruits' column before imputation\n",
    "# Row 336 and 373 has the missing value in 'MntFruits' column\n",
    "missing_fruits_rows = X[X['MntFruits'].isnull()]\n",
    "missing_fruits_rows.head()"
   ]
  },
  {
   "cell_type": "code",
   "execution_count": 22,
   "metadata": {},
   "outputs": [
    {
     "data": {
      "text/html": [
       "<div>\n",
       "<style scoped>\n",
       "    .dataframe tbody tr th:only-of-type {\n",
       "        vertical-align: middle;\n",
       "    }\n",
       "\n",
       "    .dataframe tbody tr th {\n",
       "        vertical-align: top;\n",
       "    }\n",
       "\n",
       "    .dataframe thead th {\n",
       "        text-align: right;\n",
       "    }\n",
       "</style>\n",
       "<table border=\"1\" class=\"dataframe\">\n",
       "  <thead>\n",
       "    <tr style=\"text-align: right;\">\n",
       "      <th></th>\n",
       "      <th>Year_Birth</th>\n",
       "      <th>Education</th>\n",
       "      <th>Marital_Status</th>\n",
       "      <th>Income</th>\n",
       "      <th>Kidhome</th>\n",
       "      <th>Teenhome</th>\n",
       "      <th>Dt_Customer</th>\n",
       "      <th>Recency</th>\n",
       "      <th>MntWines</th>\n",
       "      <th>MntFruits</th>\n",
       "      <th>MntMeatProducts</th>\n",
       "      <th>MntFishProducts</th>\n",
       "      <th>MntSweetProducts</th>\n",
       "      <th>MntGoldProds</th>\n",
       "      <th>NumDealsPurchases</th>\n",
       "      <th>NumWebPurchases</th>\n",
       "      <th>NumCatalogPurchases</th>\n",
       "      <th>NumStorePurchases</th>\n",
       "      <th>NumWebVisitsMonth</th>\n",
       "      <th>AcceptedCmp3</th>\n",
       "      <th>AcceptedCmp4</th>\n",
       "      <th>AcceptedCmp5</th>\n",
       "      <th>AcceptedCmp1</th>\n",
       "      <th>AcceptedCmp2</th>\n",
       "      <th>Complain</th>\n",
       "      <th>Response</th>\n",
       "    </tr>\n",
       "  </thead>\n",
       "  <tbody>\n",
       "    <tr>\n",
       "      <th>150</th>\n",
       "      <td>1953</td>\n",
       "      <td>Master</td>\n",
       "      <td>Married</td>\n",
       "      <td>59354.0</td>\n",
       "      <td>0</td>\n",
       "      <td>2</td>\n",
       "      <td>2014-04-24</td>\n",
       "      <td>59</td>\n",
       "      <td>NaN</td>\n",
       "      <td>21.0</td>\n",
       "      <td>78</td>\n",
       "      <td>39</td>\n",
       "      <td>13.0</td>\n",
       "      <td>13.0</td>\n",
       "      <td>1</td>\n",
       "      <td>4</td>\n",
       "      <td>4</td>\n",
       "      <td>7</td>\n",
       "      <td>3</td>\n",
       "      <td>0</td>\n",
       "      <td>0</td>\n",
       "      <td>0</td>\n",
       "      <td>0</td>\n",
       "      <td>0</td>\n",
       "      <td>0</td>\n",
       "      <td>0</td>\n",
       "    </tr>\n",
       "    <tr>\n",
       "      <th>190</th>\n",
       "      <td>1978</td>\n",
       "      <td>Basic</td>\n",
       "      <td>Together</td>\n",
       "      <td>24882.0</td>\n",
       "      <td>1</td>\n",
       "      <td>0</td>\n",
       "      <td>2012-09-09</td>\n",
       "      <td>52</td>\n",
       "      <td>NaN</td>\n",
       "      <td>4.0</td>\n",
       "      <td>10</td>\n",
       "      <td>29</td>\n",
       "      <td>0.0</td>\n",
       "      <td>36.0</td>\n",
       "      <td>1</td>\n",
       "      <td>1</td>\n",
       "      <td>1</td>\n",
       "      <td>2</td>\n",
       "      <td>6</td>\n",
       "      <td>1</td>\n",
       "      <td>0</td>\n",
       "      <td>0</td>\n",
       "      <td>0</td>\n",
       "      <td>0</td>\n",
       "      <td>0</td>\n",
       "      <td>0</td>\n",
       "    </tr>\n",
       "    <tr>\n",
       "      <th>368</th>\n",
       "      <td>1962</td>\n",
       "      <td>Graduation</td>\n",
       "      <td>Together</td>\n",
       "      <td>72025.0</td>\n",
       "      <td>0</td>\n",
       "      <td>0</td>\n",
       "      <td>2012-11-17</td>\n",
       "      <td>27</td>\n",
       "      <td>NaN</td>\n",
       "      <td>33.0</td>\n",
       "      <td>549</td>\n",
       "      <td>151</td>\n",
       "      <td>133.0</td>\n",
       "      <td>233.0</td>\n",
       "      <td>1</td>\n",
       "      <td>4</td>\n",
       "      <td>3</td>\n",
       "      <td>8</td>\n",
       "      <td>3</td>\n",
       "      <td>0</td>\n",
       "      <td>0</td>\n",
       "      <td>0</td>\n",
       "      <td>0</td>\n",
       "      <td>0</td>\n",
       "      <td>0</td>\n",
       "      <td>0</td>\n",
       "    </tr>\n",
       "  </tbody>\n",
       "</table>\n",
       "</div>"
      ],
      "text/plain": [
       "     Year_Birth   Education Marital_Status   Income  Kidhome  Teenhome  \\\n",
       "150        1953      Master        Married  59354.0        0         2   \n",
       "190        1978       Basic       Together  24882.0        1         0   \n",
       "368        1962  Graduation       Together  72025.0        0         0   \n",
       "\n",
       "    Dt_Customer  Recency  MntWines  MntFruits  MntMeatProducts  \\\n",
       "150  2014-04-24       59       NaN       21.0               78   \n",
       "190  2012-09-09       52       NaN        4.0               10   \n",
       "368  2012-11-17       27       NaN       33.0              549   \n",
       "\n",
       "     MntFishProducts  MntSweetProducts  MntGoldProds  NumDealsPurchases  \\\n",
       "150               39              13.0          13.0                  1   \n",
       "190               29               0.0          36.0                  1   \n",
       "368              151             133.0         233.0                  1   \n",
       "\n",
       "     NumWebPurchases  NumCatalogPurchases  NumStorePurchases  \\\n",
       "150                4                    4                  7   \n",
       "190                1                    1                  2   \n",
       "368                4                    3                  8   \n",
       "\n",
       "     NumWebVisitsMonth  AcceptedCmp3  AcceptedCmp4  AcceptedCmp5  \\\n",
       "150                  3             0             0             0   \n",
       "190                  6             1             0             0   \n",
       "368                  3             0             0             0   \n",
       "\n",
       "     AcceptedCmp1  AcceptedCmp2  Complain  Response  \n",
       "150             0             0         0         0  \n",
       "190             0             0         0         0  \n",
       "368             0             0         0         0  "
      ]
     },
     "execution_count": 22,
     "metadata": {},
     "output_type": "execute_result"
    }
   ],
   "source": [
    "# Observe rows with missing values in the 'MntWines' column before imputation\n",
    "# Row 150, 190 and 368 has the missing value in 'MntWines' column\n",
    "missing_wines_rows = X[X['MntWines'].isnull()]\n",
    "missing_wines_rows.head()"
   ]
  },
  {
   "cell_type": "markdown",
   "metadata": {},
   "source": [
    "### **Impute missing values with KNN**"
   ]
  },
  {
   "cell_type": "code",
   "execution_count": 23,
   "metadata": {},
   "outputs": [],
   "source": [
    "# Define the columns to impute\n",
    "columns_to_impute = ['Income', 'MntGoldProds', 'MntFruits', 'MntWines']  \n",
    "\n",
    "# Initialize the KNN imputer\n",
    "knn_imputer = KNNImputer(n_neighbors=3)  \n",
    "\n",
    "# Impute missing values for the selected columns\n",
    "X[columns_to_impute] = knn_imputer.fit_transform(X[columns_to_impute])"
   ]
  },
  {
   "cell_type": "code",
   "execution_count": 24,
   "metadata": {},
   "outputs": [
    {
     "data": {
      "text/html": [
       "<div>\n",
       "<style scoped>\n",
       "    .dataframe tbody tr th:only-of-type {\n",
       "        vertical-align: middle;\n",
       "    }\n",
       "\n",
       "    .dataframe tbody tr th {\n",
       "        vertical-align: top;\n",
       "    }\n",
       "\n",
       "    .dataframe thead th {\n",
       "        text-align: right;\n",
       "    }\n",
       "</style>\n",
       "<table border=\"1\" class=\"dataframe\">\n",
       "  <thead>\n",
       "    <tr style=\"text-align: right;\">\n",
       "      <th></th>\n",
       "      <th>Income</th>\n",
       "      <th>MntGoldProds</th>\n",
       "      <th>MntFruits</th>\n",
       "      <th>MntWines</th>\n",
       "    </tr>\n",
       "  </thead>\n",
       "  <tbody>\n",
       "    <tr>\n",
       "      <th>count</th>\n",
       "      <td>2215.000000</td>\n",
       "      <td>2215.000000</td>\n",
       "      <td>2215.000000</td>\n",
       "      <td>2215.000000</td>\n",
       "    </tr>\n",
       "    <tr>\n",
       "      <th>mean</th>\n",
       "      <td>51910.670730</td>\n",
       "      <td>43.815500</td>\n",
       "      <td>26.484725</td>\n",
       "      <td>305.429195</td>\n",
       "    </tr>\n",
       "    <tr>\n",
       "      <th>std</th>\n",
       "      <td>20962.376601</td>\n",
       "      <td>51.144525</td>\n",
       "      <td>39.884569</td>\n",
       "      <td>337.294162</td>\n",
       "    </tr>\n",
       "    <tr>\n",
       "      <th>min</th>\n",
       "      <td>3502.000000</td>\n",
       "      <td>0.000000</td>\n",
       "      <td>0.000000</td>\n",
       "      <td>0.000000</td>\n",
       "    </tr>\n",
       "    <tr>\n",
       "      <th>25%</th>\n",
       "      <td>35482.000000</td>\n",
       "      <td>9.000000</td>\n",
       "      <td>2.000000</td>\n",
       "      <td>24.000000</td>\n",
       "    </tr>\n",
       "    <tr>\n",
       "      <th>50%</th>\n",
       "      <td>51287.000000</td>\n",
       "      <td>24.000000</td>\n",
       "      <td>8.000000</td>\n",
       "      <td>176.000000</td>\n",
       "    </tr>\n",
       "    <tr>\n",
       "      <th>75%</th>\n",
       "      <td>68429.500000</td>\n",
       "      <td>56.000000</td>\n",
       "      <td>33.000000</td>\n",
       "      <td>505.000000</td>\n",
       "    </tr>\n",
       "    <tr>\n",
       "      <th>max</th>\n",
       "      <td>162397.000000</td>\n",
       "      <td>262.000000</td>\n",
       "      <td>199.000000</td>\n",
       "      <td>1493.000000</td>\n",
       "    </tr>\n",
       "  </tbody>\n",
       "</table>\n",
       "</div>"
      ],
      "text/plain": [
       "              Income  MntGoldProds    MntFruits     MntWines\n",
       "count    2215.000000   2215.000000  2215.000000  2215.000000\n",
       "mean    51910.670730     43.815500    26.484725   305.429195\n",
       "std     20962.376601     51.144525    39.884569   337.294162\n",
       "min      3502.000000      0.000000     0.000000     0.000000\n",
       "25%     35482.000000      9.000000     2.000000    24.000000\n",
       "50%     51287.000000     24.000000     8.000000   176.000000\n",
       "75%     68429.500000     56.000000    33.000000   505.000000\n",
       "max    162397.000000    262.000000   199.000000  1493.000000"
      ]
     },
     "execution_count": 24,
     "metadata": {},
     "output_type": "execute_result"
    }
   ],
   "source": [
    "# Check summary statistics after imputation\n",
    "X[['Income', 'MntGoldProds', 'MntFruits', 'MntWines']].describe()"
   ]
  },
  {
   "cell_type": "code",
   "execution_count": 25,
   "metadata": {},
   "outputs": [
    {
     "data": {
      "text/html": [
       "<div>\n",
       "<style scoped>\n",
       "    .dataframe tbody tr th:only-of-type {\n",
       "        vertical-align: middle;\n",
       "    }\n",
       "\n",
       "    .dataframe tbody tr th {\n",
       "        vertical-align: top;\n",
       "    }\n",
       "\n",
       "    .dataframe thead th {\n",
       "        text-align: right;\n",
       "    }\n",
       "</style>\n",
       "<table border=\"1\" class=\"dataframe\">\n",
       "  <thead>\n",
       "    <tr style=\"text-align: right;\">\n",
       "      <th></th>\n",
       "      <th>Year_Birth</th>\n",
       "      <th>Education</th>\n",
       "      <th>Marital_Status</th>\n",
       "      <th>Income</th>\n",
       "      <th>Kidhome</th>\n",
       "      <th>Teenhome</th>\n",
       "      <th>Dt_Customer</th>\n",
       "      <th>Recency</th>\n",
       "      <th>MntWines</th>\n",
       "      <th>MntFruits</th>\n",
       "      <th>MntMeatProducts</th>\n",
       "      <th>MntFishProducts</th>\n",
       "      <th>MntSweetProducts</th>\n",
       "      <th>MntGoldProds</th>\n",
       "      <th>NumDealsPurchases</th>\n",
       "      <th>NumWebPurchases</th>\n",
       "      <th>NumCatalogPurchases</th>\n",
       "      <th>NumStorePurchases</th>\n",
       "      <th>NumWebVisitsMonth</th>\n",
       "      <th>AcceptedCmp3</th>\n",
       "      <th>AcceptedCmp4</th>\n",
       "      <th>AcceptedCmp5</th>\n",
       "      <th>AcceptedCmp1</th>\n",
       "      <th>AcceptedCmp2</th>\n",
       "      <th>Complain</th>\n",
       "      <th>Response</th>\n",
       "    </tr>\n",
       "  </thead>\n",
       "  <tbody>\n",
       "    <tr>\n",
       "      <th>10</th>\n",
       "      <td>1983</td>\n",
       "      <td>Graduation</td>\n",
       "      <td>Married</td>\n",
       "      <td>37287.333333</td>\n",
       "      <td>1</td>\n",
       "      <td>0</td>\n",
       "      <td>2013-11-15</td>\n",
       "      <td>11</td>\n",
       "      <td>5.0</td>\n",
       "      <td>5.0</td>\n",
       "      <td>6</td>\n",
       "      <td>0</td>\n",
       "      <td>2.0</td>\n",
       "      <td>1.0</td>\n",
       "      <td>1</td>\n",
       "      <td>1</td>\n",
       "      <td>0</td>\n",
       "      <td>2</td>\n",
       "      <td>7</td>\n",
       "      <td>0</td>\n",
       "      <td>0</td>\n",
       "      <td>0</td>\n",
       "      <td>0</td>\n",
       "      <td>0</td>\n",
       "      <td>0</td>\n",
       "      <td>0</td>\n",
       "    </tr>\n",
       "    <tr>\n",
       "      <th>43</th>\n",
       "      <td>1959</td>\n",
       "      <td>PhD</td>\n",
       "      <td>Single</td>\n",
       "      <td>37464.000000</td>\n",
       "      <td>0</td>\n",
       "      <td>0</td>\n",
       "      <td>2013-11-05</td>\n",
       "      <td>80</td>\n",
       "      <td>81.0</td>\n",
       "      <td>11.0</td>\n",
       "      <td>50</td>\n",
       "      <td>3</td>\n",
       "      <td>2.0</td>\n",
       "      <td>39.0</td>\n",
       "      <td>1</td>\n",
       "      <td>1</td>\n",
       "      <td>3</td>\n",
       "      <td>4</td>\n",
       "      <td>2</td>\n",
       "      <td>0</td>\n",
       "      <td>0</td>\n",
       "      <td>0</td>\n",
       "      <td>0</td>\n",
       "      <td>0</td>\n",
       "      <td>0</td>\n",
       "      <td>0</td>\n",
       "    </tr>\n",
       "    <tr>\n",
       "      <th>48</th>\n",
       "      <td>1951</td>\n",
       "      <td>Graduation</td>\n",
       "      <td>Single</td>\n",
       "      <td>41730.000000</td>\n",
       "      <td>2</td>\n",
       "      <td>1</td>\n",
       "      <td>2014-01-01</td>\n",
       "      <td>96</td>\n",
       "      <td>48.0</td>\n",
       "      <td>5.0</td>\n",
       "      <td>48</td>\n",
       "      <td>6</td>\n",
       "      <td>10.0</td>\n",
       "      <td>7.0</td>\n",
       "      <td>3</td>\n",
       "      <td>2</td>\n",
       "      <td>1</td>\n",
       "      <td>4</td>\n",
       "      <td>6</td>\n",
       "      <td>0</td>\n",
       "      <td>0</td>\n",
       "      <td>0</td>\n",
       "      <td>0</td>\n",
       "      <td>0</td>\n",
       "      <td>0</td>\n",
       "      <td>0</td>\n",
       "    </tr>\n",
       "    <tr>\n",
       "      <th>58</th>\n",
       "      <td>1982</td>\n",
       "      <td>Graduation</td>\n",
       "      <td>Single</td>\n",
       "      <td>22945.666667</td>\n",
       "      <td>1</td>\n",
       "      <td>0</td>\n",
       "      <td>2013-06-17</td>\n",
       "      <td>57</td>\n",
       "      <td>11.0</td>\n",
       "      <td>3.0</td>\n",
       "      <td>22</td>\n",
       "      <td>2</td>\n",
       "      <td>2.0</td>\n",
       "      <td>6.0</td>\n",
       "      <td>2</td>\n",
       "      <td>2</td>\n",
       "      <td>0</td>\n",
       "      <td>3</td>\n",
       "      <td>6</td>\n",
       "      <td>0</td>\n",
       "      <td>0</td>\n",
       "      <td>0</td>\n",
       "      <td>0</td>\n",
       "      <td>0</td>\n",
       "      <td>0</td>\n",
       "      <td>0</td>\n",
       "    </tr>\n",
       "    <tr>\n",
       "      <th>71</th>\n",
       "      <td>1973</td>\n",
       "      <td>2n Cycle</td>\n",
       "      <td>Married</td>\n",
       "      <td>41353.333333</td>\n",
       "      <td>1</td>\n",
       "      <td>0</td>\n",
       "      <td>2012-09-14</td>\n",
       "      <td>25</td>\n",
       "      <td>25.0</td>\n",
       "      <td>3.0</td>\n",
       "      <td>43</td>\n",
       "      <td>17</td>\n",
       "      <td>4.0</td>\n",
       "      <td>17.0</td>\n",
       "      <td>3</td>\n",
       "      <td>3</td>\n",
       "      <td>0</td>\n",
       "      <td>3</td>\n",
       "      <td>8</td>\n",
       "      <td>0</td>\n",
       "      <td>0</td>\n",
       "      <td>0</td>\n",
       "      <td>0</td>\n",
       "      <td>0</td>\n",
       "      <td>0</td>\n",
       "      <td>0</td>\n",
       "    </tr>\n",
       "  </tbody>\n",
       "</table>\n",
       "</div>"
      ],
      "text/plain": [
       "    Year_Birth   Education Marital_Status        Income  Kidhome  Teenhome  \\\n",
       "10        1983  Graduation        Married  37287.333333        1         0   \n",
       "43        1959         PhD         Single  37464.000000        0         0   \n",
       "48        1951  Graduation         Single  41730.000000        2         1   \n",
       "58        1982  Graduation         Single  22945.666667        1         0   \n",
       "71        1973    2n Cycle        Married  41353.333333        1         0   \n",
       "\n",
       "   Dt_Customer  Recency  MntWines  MntFruits  MntMeatProducts  \\\n",
       "10  2013-11-15       11       5.0        5.0                6   \n",
       "43  2013-11-05       80      81.0       11.0               50   \n",
       "48  2014-01-01       96      48.0        5.0               48   \n",
       "58  2013-06-17       57      11.0        3.0               22   \n",
       "71  2012-09-14       25      25.0        3.0               43   \n",
       "\n",
       "    MntFishProducts  MntSweetProducts  MntGoldProds  NumDealsPurchases  \\\n",
       "10                0               2.0           1.0                  1   \n",
       "43                3               2.0          39.0                  1   \n",
       "48                6              10.0           7.0                  3   \n",
       "58                2               2.0           6.0                  2   \n",
       "71               17               4.0          17.0                  3   \n",
       "\n",
       "    NumWebPurchases  NumCatalogPurchases  NumStorePurchases  \\\n",
       "10                1                    0                  2   \n",
       "43                1                    3                  4   \n",
       "48                2                    1                  4   \n",
       "58                2                    0                  3   \n",
       "71                3                    0                  3   \n",
       "\n",
       "    NumWebVisitsMonth  AcceptedCmp3  AcceptedCmp4  AcceptedCmp5  AcceptedCmp1  \\\n",
       "10                  7             0             0             0             0   \n",
       "43                  2             0             0             0             0   \n",
       "48                  6             0             0             0             0   \n",
       "58                  6             0             0             0             0   \n",
       "71                  8             0             0             0             0   \n",
       "\n",
       "    AcceptedCmp2  Complain  Response  \n",
       "10             0         0         0  \n",
       "43             0         0         0  \n",
       "48             0         0         0  \n",
       "58             0         0         0  \n",
       "71             0         0         0  "
      ]
     },
     "execution_count": 25,
     "metadata": {},
     "output_type": "execute_result"
    }
   ],
   "source": [
    "# Check if the imputation values make sense for corresponding rows in 'Income'\n",
    "X.iloc[[9, 40, 44, 54, 67]]"
   ]
  },
  {
   "cell_type": "code",
   "execution_count": 26,
   "metadata": {},
   "outputs": [
    {
     "data": {
      "text/html": [
       "<div>\n",
       "<style scoped>\n",
       "    .dataframe tbody tr th:only-of-type {\n",
       "        vertical-align: middle;\n",
       "    }\n",
       "\n",
       "    .dataframe tbody tr th {\n",
       "        vertical-align: top;\n",
       "    }\n",
       "\n",
       "    .dataframe thead th {\n",
       "        text-align: right;\n",
       "    }\n",
       "</style>\n",
       "<table border=\"1\" class=\"dataframe\">\n",
       "  <thead>\n",
       "    <tr style=\"text-align: right;\">\n",
       "      <th></th>\n",
       "      <th>Year_Birth</th>\n",
       "      <th>Education</th>\n",
       "      <th>Marital_Status</th>\n",
       "      <th>Income</th>\n",
       "      <th>Kidhome</th>\n",
       "      <th>Teenhome</th>\n",
       "      <th>Dt_Customer</th>\n",
       "      <th>Recency</th>\n",
       "      <th>MntWines</th>\n",
       "      <th>MntFruits</th>\n",
       "      <th>MntMeatProducts</th>\n",
       "      <th>MntFishProducts</th>\n",
       "      <th>MntSweetProducts</th>\n",
       "      <th>MntGoldProds</th>\n",
       "      <th>NumDealsPurchases</th>\n",
       "      <th>NumWebPurchases</th>\n",
       "      <th>NumCatalogPurchases</th>\n",
       "      <th>NumStorePurchases</th>\n",
       "      <th>NumWebVisitsMonth</th>\n",
       "      <th>AcceptedCmp3</th>\n",
       "      <th>AcceptedCmp4</th>\n",
       "      <th>AcceptedCmp5</th>\n",
       "      <th>AcceptedCmp1</th>\n",
       "      <th>AcceptedCmp2</th>\n",
       "      <th>Complain</th>\n",
       "      <th>Response</th>\n",
       "    </tr>\n",
       "  </thead>\n",
       "  <tbody>\n",
       "    <tr>\n",
       "      <th>613</th>\n",
       "      <td>1967</td>\n",
       "      <td>Graduation</td>\n",
       "      <td>Married</td>\n",
       "      <td>22574.0</td>\n",
       "      <td>2</td>\n",
       "      <td>1</td>\n",
       "      <td>2013-10-28</td>\n",
       "      <td>28</td>\n",
       "      <td>25.0</td>\n",
       "      <td>0.0</td>\n",
       "      <td>8</td>\n",
       "      <td>2</td>\n",
       "      <td>0.0</td>\n",
       "      <td>4.000000</td>\n",
       "      <td>2</td>\n",
       "      <td>2</td>\n",
       "      <td>0</td>\n",
       "      <td>3</td>\n",
       "      <td>7</td>\n",
       "      <td>0</td>\n",
       "      <td>0</td>\n",
       "      <td>0</td>\n",
       "      <td>0</td>\n",
       "      <td>0</td>\n",
       "      <td>0</td>\n",
       "      <td>0</td>\n",
       "    </tr>\n",
       "    <tr>\n",
       "      <th>614</th>\n",
       "      <td>1969</td>\n",
       "      <td>PhD</td>\n",
       "      <td>Single</td>\n",
       "      <td>48240.0</td>\n",
       "      <td>0</td>\n",
       "      <td>0</td>\n",
       "      <td>2012-11-09</td>\n",
       "      <td>73</td>\n",
       "      <td>389.0</td>\n",
       "      <td>91.0</td>\n",
       "      <td>248</td>\n",
       "      <td>64</td>\n",
       "      <td>49.0</td>\n",
       "      <td>43.000000</td>\n",
       "      <td>3</td>\n",
       "      <td>6</td>\n",
       "      <td>3</td>\n",
       "      <td>13</td>\n",
       "      <td>5</td>\n",
       "      <td>0</td>\n",
       "      <td>0</td>\n",
       "      <td>0</td>\n",
       "      <td>0</td>\n",
       "      <td>0</td>\n",
       "      <td>0</td>\n",
       "      <td>1</td>\n",
       "    </tr>\n",
       "    <tr>\n",
       "      <th>615</th>\n",
       "      <td>1974</td>\n",
       "      <td>Graduation</td>\n",
       "      <td>Married</td>\n",
       "      <td>45837.0</td>\n",
       "      <td>1</td>\n",
       "      <td>1</td>\n",
       "      <td>2013-07-26</td>\n",
       "      <td>88</td>\n",
       "      <td>215.0</td>\n",
       "      <td>13.0</td>\n",
       "      <td>87</td>\n",
       "      <td>17</td>\n",
       "      <td>17.0</td>\n",
       "      <td>95.000000</td>\n",
       "      <td>5</td>\n",
       "      <td>6</td>\n",
       "      <td>2</td>\n",
       "      <td>5</td>\n",
       "      <td>7</td>\n",
       "      <td>0</td>\n",
       "      <td>0</td>\n",
       "      <td>0</td>\n",
       "      <td>0</td>\n",
       "      <td>0</td>\n",
       "      <td>0</td>\n",
       "      <td>0</td>\n",
       "    </tr>\n",
       "    <tr>\n",
       "      <th>616</th>\n",
       "      <td>1965</td>\n",
       "      <td>Master</td>\n",
       "      <td>Single</td>\n",
       "      <td>35791.0</td>\n",
       "      <td>2</td>\n",
       "      <td>1</td>\n",
       "      <td>2013-05-06</td>\n",
       "      <td>94</td>\n",
       "      <td>27.0</td>\n",
       "      <td>0.0</td>\n",
       "      <td>5</td>\n",
       "      <td>0</td>\n",
       "      <td>0.0</td>\n",
       "      <td>7.666667</td>\n",
       "      <td>2</td>\n",
       "      <td>1</td>\n",
       "      <td>0</td>\n",
       "      <td>3</td>\n",
       "      <td>8</td>\n",
       "      <td>0</td>\n",
       "      <td>0</td>\n",
       "      <td>0</td>\n",
       "      <td>0</td>\n",
       "      <td>0</td>\n",
       "      <td>0</td>\n",
       "      <td>0</td>\n",
       "    </tr>\n",
       "    <tr>\n",
       "      <th>617</th>\n",
       "      <td>1976</td>\n",
       "      <td>PhD</td>\n",
       "      <td>Together</td>\n",
       "      <td>162397.0</td>\n",
       "      <td>1</td>\n",
       "      <td>1</td>\n",
       "      <td>2013-06-03</td>\n",
       "      <td>31</td>\n",
       "      <td>85.0</td>\n",
       "      <td>1.0</td>\n",
       "      <td>16</td>\n",
       "      <td>2</td>\n",
       "      <td>1.0</td>\n",
       "      <td>18.333333</td>\n",
       "      <td>0</td>\n",
       "      <td>0</td>\n",
       "      <td>0</td>\n",
       "      <td>1</td>\n",
       "      <td>1</td>\n",
       "      <td>0</td>\n",
       "      <td>0</td>\n",
       "      <td>0</td>\n",
       "      <td>0</td>\n",
       "      <td>0</td>\n",
       "      <td>0</td>\n",
       "      <td>0</td>\n",
       "    </tr>\n",
       "  </tbody>\n",
       "</table>\n",
       "</div>"
      ],
      "text/plain": [
       "     Year_Birth   Education Marital_Status    Income  Kidhome  Teenhome  \\\n",
       "613        1967  Graduation        Married   22574.0        2         1   \n",
       "614        1969         PhD         Single   48240.0        0         0   \n",
       "615        1974  Graduation        Married   45837.0        1         1   \n",
       "616        1965      Master         Single   35791.0        2         1   \n",
       "617        1976         PhD       Together  162397.0        1         1   \n",
       "\n",
       "    Dt_Customer  Recency  MntWines  MntFruits  MntMeatProducts  \\\n",
       "613  2013-10-28       28      25.0        0.0                8   \n",
       "614  2012-11-09       73     389.0       91.0              248   \n",
       "615  2013-07-26       88     215.0       13.0               87   \n",
       "616  2013-05-06       94      27.0        0.0                5   \n",
       "617  2013-06-03       31      85.0        1.0               16   \n",
       "\n",
       "     MntFishProducts  MntSweetProducts  MntGoldProds  NumDealsPurchases  \\\n",
       "613                2               0.0      4.000000                  2   \n",
       "614               64              49.0     43.000000                  3   \n",
       "615               17              17.0     95.000000                  5   \n",
       "616                0               0.0      7.666667                  2   \n",
       "617                2               1.0     18.333333                  0   \n",
       "\n",
       "     NumWebPurchases  NumCatalogPurchases  NumStorePurchases  \\\n",
       "613                2                    0                  3   \n",
       "614                6                    3                 13   \n",
       "615                6                    2                  5   \n",
       "616                1                    0                  3   \n",
       "617                0                    0                  1   \n",
       "\n",
       "     NumWebVisitsMonth  AcceptedCmp3  AcceptedCmp4  AcceptedCmp5  \\\n",
       "613                  7             0             0             0   \n",
       "614                  5             0             0             0   \n",
       "615                  7             0             0             0   \n",
       "616                  8             0             0             0   \n",
       "617                  1             0             0             0   \n",
       "\n",
       "     AcceptedCmp1  AcceptedCmp2  Complain  Response  \n",
       "613             0             0         0         0  \n",
       "614             0             0         0         1  \n",
       "615             0             0         0         0  \n",
       "616             0             0         0         0  \n",
       "617             0             0         0         0  "
      ]
     },
     "execution_count": 26,
     "metadata": {},
     "output_type": "execute_result"
    }
   ],
   "source": [
    "# # Check if the imputation values make sense for corresponding rows in 'MntGoldProds'\n",
    "X.iloc[[604, 605, 606, 607, 608]]"
   ]
  },
  {
   "cell_type": "code",
   "execution_count": 27,
   "metadata": {},
   "outputs": [
    {
     "data": {
      "text/html": [
       "<div>\n",
       "<style scoped>\n",
       "    .dataframe tbody tr th:only-of-type {\n",
       "        vertical-align: middle;\n",
       "    }\n",
       "\n",
       "    .dataframe tbody tr th {\n",
       "        vertical-align: top;\n",
       "    }\n",
       "\n",
       "    .dataframe thead th {\n",
       "        text-align: right;\n",
       "    }\n",
       "</style>\n",
       "<table border=\"1\" class=\"dataframe\">\n",
       "  <thead>\n",
       "    <tr style=\"text-align: right;\">\n",
       "      <th></th>\n",
       "      <th>Year_Birth</th>\n",
       "      <th>Education</th>\n",
       "      <th>Marital_Status</th>\n",
       "      <th>Income</th>\n",
       "      <th>Kidhome</th>\n",
       "      <th>Teenhome</th>\n",
       "      <th>Dt_Customer</th>\n",
       "      <th>Recency</th>\n",
       "      <th>MntWines</th>\n",
       "      <th>MntFruits</th>\n",
       "      <th>MntMeatProducts</th>\n",
       "      <th>MntFishProducts</th>\n",
       "      <th>MntSweetProducts</th>\n",
       "      <th>MntGoldProds</th>\n",
       "      <th>NumDealsPurchases</th>\n",
       "      <th>NumWebPurchases</th>\n",
       "      <th>NumCatalogPurchases</th>\n",
       "      <th>NumStorePurchases</th>\n",
       "      <th>NumWebVisitsMonth</th>\n",
       "      <th>AcceptedCmp3</th>\n",
       "      <th>AcceptedCmp4</th>\n",
       "      <th>AcceptedCmp5</th>\n",
       "      <th>AcceptedCmp1</th>\n",
       "      <th>AcceptedCmp2</th>\n",
       "      <th>Complain</th>\n",
       "      <th>Response</th>\n",
       "    </tr>\n",
       "  </thead>\n",
       "  <tbody>\n",
       "    <tr>\n",
       "      <th>151</th>\n",
       "      <td>1969</td>\n",
       "      <td>Graduation</td>\n",
       "      <td>Married</td>\n",
       "      <td>65747.0</td>\n",
       "      <td>0</td>\n",
       "      <td>1</td>\n",
       "      <td>2014-03-07</td>\n",
       "      <td>96</td>\n",
       "      <td>346.0</td>\n",
       "      <td>17.0</td>\n",
       "      <td>48</td>\n",
       "      <td>23</td>\n",
       "      <td>13.0</td>\n",
       "      <td>13.0</td>\n",
       "      <td>4</td>\n",
       "      <td>8</td>\n",
       "      <td>1</td>\n",
       "      <td>6</td>\n",
       "      <td>6</td>\n",
       "      <td>0</td>\n",
       "      <td>1</td>\n",
       "      <td>0</td>\n",
       "      <td>0</td>\n",
       "      <td>0</td>\n",
       "      <td>0</td>\n",
       "      <td>0</td>\n",
       "    </tr>\n",
       "    <tr>\n",
       "      <th>191</th>\n",
       "      <td>1989</td>\n",
       "      <td>PhD</td>\n",
       "      <td>Together</td>\n",
       "      <td>66973.0</td>\n",
       "      <td>0</td>\n",
       "      <td>0</td>\n",
       "      <td>2013-05-17</td>\n",
       "      <td>98</td>\n",
       "      <td>466.0</td>\n",
       "      <td>22.0</td>\n",
       "      <td>432</td>\n",
       "      <td>147</td>\n",
       "      <td>113.0</td>\n",
       "      <td>102.0</td>\n",
       "      <td>1</td>\n",
       "      <td>8</td>\n",
       "      <td>7</td>\n",
       "      <td>12</td>\n",
       "      <td>3</td>\n",
       "      <td>0</td>\n",
       "      <td>0</td>\n",
       "      <td>0</td>\n",
       "      <td>0</td>\n",
       "      <td>0</td>\n",
       "      <td>0</td>\n",
       "      <td>0</td>\n",
       "    </tr>\n",
       "    <tr>\n",
       "      <th>370</th>\n",
       "      <td>1984</td>\n",
       "      <td>2n Cycle</td>\n",
       "      <td>Married</td>\n",
       "      <td>35684.0</td>\n",
       "      <td>1</td>\n",
       "      <td>0</td>\n",
       "      <td>2014-04-22</td>\n",
       "      <td>66</td>\n",
       "      <td>10.0</td>\n",
       "      <td>4.0</td>\n",
       "      <td>7</td>\n",
       "      <td>0</td>\n",
       "      <td>6.0</td>\n",
       "      <td>3.0</td>\n",
       "      <td>1</td>\n",
       "      <td>1</td>\n",
       "      <td>0</td>\n",
       "      <td>3</td>\n",
       "      <td>6</td>\n",
       "      <td>0</td>\n",
       "      <td>0</td>\n",
       "      <td>0</td>\n",
       "      <td>0</td>\n",
       "      <td>0</td>\n",
       "      <td>0</td>\n",
       "      <td>0</td>\n",
       "    </tr>\n",
       "  </tbody>\n",
       "</table>\n",
       "</div>"
      ],
      "text/plain": [
       "     Year_Birth   Education Marital_Status   Income  Kidhome  Teenhome  \\\n",
       "151        1969  Graduation        Married  65747.0        0         1   \n",
       "191        1989         PhD       Together  66973.0        0         0   \n",
       "370        1984    2n Cycle        Married  35684.0        1         0   \n",
       "\n",
       "    Dt_Customer  Recency  MntWines  MntFruits  MntMeatProducts  \\\n",
       "151  2014-03-07       96     346.0       17.0               48   \n",
       "191  2013-05-17       98     466.0       22.0              432   \n",
       "370  2014-04-22       66      10.0        4.0                7   \n",
       "\n",
       "     MntFishProducts  MntSweetProducts  MntGoldProds  NumDealsPurchases  \\\n",
       "151               23              13.0          13.0                  4   \n",
       "191              147             113.0         102.0                  1   \n",
       "370                0               6.0           3.0                  1   \n",
       "\n",
       "     NumWebPurchases  NumCatalogPurchases  NumStorePurchases  \\\n",
       "151                8                    1                  6   \n",
       "191                8                    7                 12   \n",
       "370                1                    0                  3   \n",
       "\n",
       "     NumWebVisitsMonth  AcceptedCmp3  AcceptedCmp4  AcceptedCmp5  \\\n",
       "151                  6             0             1             0   \n",
       "191                  3             0             0             0   \n",
       "370                  6             0             0             0   \n",
       "\n",
       "     AcceptedCmp1  AcceptedCmp2  Complain  Response  \n",
       "151             0             0         0         0  \n",
       "191             0             0         0         0  \n",
       "370             0             0         0         0  "
      ]
     },
     "execution_count": 27,
     "metadata": {},
     "output_type": "execute_result"
    }
   ],
   "source": [
    "# Check if the imputation values make sense for corresponding rows in 'MntWines'\n",
    "X.iloc[[145, 184, 362]]"
   ]
  },
  {
   "cell_type": "code",
   "execution_count": 28,
   "metadata": {},
   "outputs": [
    {
     "data": {
      "text/html": [
       "<div>\n",
       "<style scoped>\n",
       "    .dataframe tbody tr th:only-of-type {\n",
       "        vertical-align: middle;\n",
       "    }\n",
       "\n",
       "    .dataframe tbody tr th {\n",
       "        vertical-align: top;\n",
       "    }\n",
       "\n",
       "    .dataframe thead th {\n",
       "        text-align: right;\n",
       "    }\n",
       "</style>\n",
       "<table border=\"1\" class=\"dataframe\">\n",
       "  <thead>\n",
       "    <tr style=\"text-align: right;\">\n",
       "      <th></th>\n",
       "      <th>Year_Birth</th>\n",
       "      <th>Education</th>\n",
       "      <th>Marital_Status</th>\n",
       "      <th>Income</th>\n",
       "      <th>Kidhome</th>\n",
       "      <th>Teenhome</th>\n",
       "      <th>Dt_Customer</th>\n",
       "      <th>Recency</th>\n",
       "      <th>MntWines</th>\n",
       "      <th>MntFruits</th>\n",
       "      <th>MntMeatProducts</th>\n",
       "      <th>MntFishProducts</th>\n",
       "      <th>MntSweetProducts</th>\n",
       "      <th>MntGoldProds</th>\n",
       "      <th>NumDealsPurchases</th>\n",
       "      <th>NumWebPurchases</th>\n",
       "      <th>NumCatalogPurchases</th>\n",
       "      <th>NumStorePurchases</th>\n",
       "      <th>NumWebVisitsMonth</th>\n",
       "      <th>AcceptedCmp3</th>\n",
       "      <th>AcceptedCmp4</th>\n",
       "      <th>AcceptedCmp5</th>\n",
       "      <th>AcceptedCmp1</th>\n",
       "      <th>AcceptedCmp2</th>\n",
       "      <th>Complain</th>\n",
       "      <th>Response</th>\n",
       "    </tr>\n",
       "  </thead>\n",
       "  <tbody>\n",
       "    <tr>\n",
       "      <th>338</th>\n",
       "      <td>1965</td>\n",
       "      <td>Graduation</td>\n",
       "      <td>Together</td>\n",
       "      <td>83003.0</td>\n",
       "      <td>0</td>\n",
       "      <td>0</td>\n",
       "      <td>2013-03-03</td>\n",
       "      <td>18</td>\n",
       "      <td>856.0</td>\n",
       "      <td>61.0</td>\n",
       "      <td>570</td>\n",
       "      <td>40</td>\n",
       "      <td>25.0</td>\n",
       "      <td>122.0</td>\n",
       "      <td>1</td>\n",
       "      <td>7</td>\n",
       "      <td>6</td>\n",
       "      <td>8</td>\n",
       "      <td>3</td>\n",
       "      <td>0</td>\n",
       "      <td>0</td>\n",
       "      <td>1</td>\n",
       "      <td>0</td>\n",
       "      <td>0</td>\n",
       "      <td>0</td>\n",
       "      <td>1</td>\n",
       "    </tr>\n",
       "    <tr>\n",
       "      <th>375</th>\n",
       "      <td>1975</td>\n",
       "      <td>Master</td>\n",
       "      <td>Single</td>\n",
       "      <td>46098.0</td>\n",
       "      <td>1</td>\n",
       "      <td>1</td>\n",
       "      <td>2012-08-18</td>\n",
       "      <td>86</td>\n",
       "      <td>57.0</td>\n",
       "      <td>0.0</td>\n",
       "      <td>27</td>\n",
       "      <td>0</td>\n",
       "      <td>0.0</td>\n",
       "      <td>36.0</td>\n",
       "      <td>4</td>\n",
       "      <td>3</td>\n",
       "      <td>2</td>\n",
       "      <td>2</td>\n",
       "      <td>8</td>\n",
       "      <td>0</td>\n",
       "      <td>0</td>\n",
       "      <td>0</td>\n",
       "      <td>0</td>\n",
       "      <td>0</td>\n",
       "      <td>0</td>\n",
       "      <td>0</td>\n",
       "    </tr>\n",
       "  </tbody>\n",
       "</table>\n",
       "</div>"
      ],
      "text/plain": [
       "     Year_Birth   Education Marital_Status   Income  Kidhome  Teenhome  \\\n",
       "338        1965  Graduation       Together  83003.0        0         0   \n",
       "375        1975      Master         Single  46098.0        1         1   \n",
       "\n",
       "    Dt_Customer  Recency  MntWines  MntFruits  MntMeatProducts  \\\n",
       "338  2013-03-03       18     856.0       61.0              570   \n",
       "375  2012-08-18       86      57.0        0.0               27   \n",
       "\n",
       "     MntFishProducts  MntSweetProducts  MntGoldProds  NumDealsPurchases  \\\n",
       "338               40              25.0         122.0                  1   \n",
       "375                0               0.0          36.0                  4   \n",
       "\n",
       "     NumWebPurchases  NumCatalogPurchases  NumStorePurchases  \\\n",
       "338                7                    6                  8   \n",
       "375                3                    2                  2   \n",
       "\n",
       "     NumWebVisitsMonth  AcceptedCmp3  AcceptedCmp4  AcceptedCmp5  \\\n",
       "338                  3             0             0             1   \n",
       "375                  8             0             0             0   \n",
       "\n",
       "     AcceptedCmp1  AcceptedCmp2  Complain  Response  \n",
       "338             0             0         0         1  \n",
       "375             0             0         0         0  "
      ]
     },
     "execution_count": 28,
     "metadata": {},
     "output_type": "execute_result"
    }
   ],
   "source": [
    "# Check if the imputation values make sense for corresponding rows in 'MntFruits'\n",
    "X.iloc[[330, 367]]"
   ]
  },
  {
   "cell_type": "markdown",
   "metadata": {},
   "source": [
    "Summary statistics (compare before and after) indicates that the missing values were filled in a manner that maintains the central tendency of the dataset, as reflected in the mean values. This preservation of mean values indicates that the imputation process did not introduce significant bias or distortion into the dataset. Corresponding rows are printed to check values carefully. The values differ meaningfully. We imputed missing values successfully. We are good to go! "
   ]
  },
  {
   "cell_type": "markdown",
   "metadata": {},
   "source": [
    "### **Create binary column for higher education**"
   ]
  },
  {
   "cell_type": "code",
   "execution_count": 29,
   "metadata": {},
   "outputs": [],
   "source": [
    "# Create a higher education columns\n",
    "higher_education = ['Graduation', 'Master', 'PhD']\n",
    "#lower_education = ['Basic', '2n Cycle']\n",
    "\n",
    "# Create new feature column\n",
    "X['higher_education'] = X['Education'].apply(lambda x: 1 if x in higher_education else 0)\n",
    "#X['lower_education'] = X['Education'].apply(lambda x: 1 if x in lower_education else 0)"
   ]
  },
  {
   "cell_type": "code",
   "execution_count": 30,
   "metadata": {},
   "outputs": [
    {
     "name": "stdout",
     "output_type": "stream",
     "text": [
      "     Education  higher_education\n",
      "0   Graduation                 1\n",
      "1   Graduation                 1\n",
      "2   Graduation                 1\n",
      "3   Graduation                 1\n",
      "4          PhD                 1\n",
      "5       Master                 1\n",
      "6   Graduation                 1\n",
      "7          PhD                 1\n",
      "8          PhD                 1\n",
      "10  Graduation                 1\n",
      "11       Basic                 0\n",
      "12  Graduation                 1\n",
      "13      Master                 1\n",
      "14  Graduation                 1\n",
      "15         PhD                 1\n",
      "16  Graduation                 1\n",
      "17  Graduation                 1\n",
      "18      Master                 1\n",
      "19    2n Cycle                 0\n",
      "20  Graduation                 1\n"
     ]
    }
   ],
   "source": [
    "# Confirm\n",
    "print(X[['Education', 'higher_education']].head(20))\n",
    "\n",
    "# Drop the Education column\n",
    "X.drop(['Education'], axis=1, inplace=True)"
   ]
  },
  {
   "cell_type": "markdown",
   "metadata": {},
   "source": [
    "Instead of creating two encoded columns like higher_education and lower_education from 'Education' column, only higher_education column, which gives the same information, is created to reduce the noise . "
   ]
  },
  {
   "cell_type": "markdown",
   "metadata": {},
   "source": [
    "### **Remapping the `marital_status` categories**"
   ]
  },
  {
   "cell_type": "code",
   "execution_count": 31,
   "metadata": {},
   "outputs": [
    {
     "data": {
      "text/plain": [
       "marital_status\n",
       "Married     855\n",
       "Single      790\n",
       "Together    570\n",
       "Name: count, dtype: int64"
      ]
     },
     "execution_count": 31,
     "metadata": {},
     "output_type": "execute_result"
    }
   ],
   "source": [
    "# 'Married' or 'Together' are kept as is, while all other marital statuses are labeled as 'Single'\n",
    "X['marital_status'] = X['Marital_Status'].apply(lambda x: x if x in ['Married', 'Together'] else 'Single')\n",
    "\n",
    "# Drop Marital_Status\n",
    "X.drop(['Marital_Status'], axis=1, inplace=True)\n",
    "\n",
    "# Confirm\n",
    "X.marital_status.value_counts()"
   ]
  },
  {
   "cell_type": "markdown",
   "metadata": {},
   "source": [
    "### **Create `age` column from `Year_Birth` and bin**"
   ]
  },
  {
   "cell_type": "code",
   "execution_count": 32,
   "metadata": {},
   "outputs": [
    {
     "name": "stdout",
     "output_type": "stream",
     "text": [
      "   Year_Birth  age\n",
      "0        1957   67\n",
      "1        1954   70\n",
      "2        1965   59\n",
      "3        1984   40\n",
      "4        1981   43\n"
     ]
    }
   ],
   "source": [
    "# Calculate the current year\n",
    "current_year = datetime.now().year\n",
    "\n",
    "# Calculate the age of each individual\n",
    "X['age'] = current_year - X['Year_Birth'] \n",
    "\n",
    "# Display the first few rows to verify the new 'age' column\n",
    "print(X[['Year_Birth', 'age']].head())\n",
    "\n",
    "# Drop the 'Year_Birth' column\n",
    "X.drop(['Year_Birth'], axis=1, inplace=True)"
   ]
  },
  {
   "cell_type": "code",
   "execution_count": 33,
   "metadata": {},
   "outputs": [
    {
     "data": {
      "text/plain": [
       "count    2215.000000\n",
       "mean       55.215350\n",
       "std        11.970912\n",
       "min        28.000000\n",
       "25%        47.000000\n",
       "50%        54.000000\n",
       "75%        65.000000\n",
       "max       131.000000\n",
       "Name: age, dtype: float64"
      ]
     },
     "execution_count": 33,
     "metadata": {},
     "output_type": "execute_result"
    }
   ],
   "source": [
    "# Check percentiles for binning\n",
    "# Based on the 'Year_Birth' values, some extreme ages were appeared like 131. Since it is not a valid data, they will be ignored and not removed\n",
    "X.age.describe()"
   ]
  },
  {
   "cell_type": "markdown",
   "metadata": {},
   "source": [
    "Jeanne Louise Calment was a French supercentenarian and, with a documented lifespan of 122 years and 164 days, is the world's oldest verified person.\n",
    "\n",
    "**Reference:** *https://en.wikipedia.org/wiki/Jeanne_Calment*"
   ]
  },
  {
   "cell_type": "code",
   "execution_count": 34,
   "metadata": {},
   "outputs": [],
   "source": [
    "# Define label and bins based on the percentiles\n",
    "age_bins = [0, 47, 54, 132]\n",
    "age_labels = ['Young', 'Middle-aged', 'Senior']\n",
    "age_category = pd.cut(X['age'], bins=age_bins, labels=age_labels)\n",
    "X['age_category'] = age_category"
   ]
  },
  {
   "cell_type": "code",
   "execution_count": 35,
   "metadata": {},
   "outputs": [
    {
     "name": "stdout",
     "output_type": "stream",
     "text": [
      "    age age_category\n",
      "0    67       Senior\n",
      "1    70       Senior\n",
      "2    59       Senior\n",
      "3    40        Young\n",
      "4    43        Young\n",
      "5    57       Senior\n",
      "6    53  Middle-aged\n",
      "7    39        Young\n",
      "8    50  Middle-aged\n",
      "10   41        Young\n"
     ]
    }
   ],
   "source": [
    "# Confirm \n",
    "print(X[['age', 'age_category']].head(10))\n",
    "\n",
    "# Drop the age column\n",
    "X.drop(['age'], axis=1, inplace=True)"
   ]
  },
  {
   "cell_type": "markdown",
   "metadata": {},
   "source": [
    "### **Create `length_of_membership` column from `Dt_Customer`**"
   ]
  },
  {
   "cell_type": "code",
   "execution_count": 36,
   "metadata": {},
   "outputs": [
    {
     "name": "stdout",
     "output_type": "stream",
     "text": [
      "  Dt_Customer  length_of_membership\n",
      "0  2012-09-04                    12\n",
      "1  2014-03-08                    10\n",
      "2  2013-08-21                    11\n",
      "3  2014-02-10                    10\n",
      "4  2014-01-19                    10\n"
     ]
    }
   ],
   "source": [
    "# Convert 'Dt_Customer' to datetime format\n",
    "X['Dt_Customer'] = pd.to_datetime(X['Dt_Customer'])\n",
    "\n",
    "# Calculate the length of membership (in years)\n",
    "X['length_of_membership'] = current_year - X['Dt_Customer'].dt.year\n",
    "\n",
    "# Display the first few rows to verify the new 'Length_of_Membership' column\n",
    "print(X[['Dt_Customer', 'length_of_membership']].head())\n",
    "\n",
    "# Drop the column\n",
    "X.drop(['Dt_Customer'], axis=1, inplace=True)"
   ]
  },
  {
   "cell_type": "markdown",
   "metadata": {},
   "source": [
    "### **Create `total_amount_spent` column by summing up `product columns`**"
   ]
  },
  {
   "cell_type": "code",
   "execution_count": 37,
   "metadata": {},
   "outputs": [
    {
     "name": "stdout",
     "output_type": "stream",
     "text": [
      "   MntWines  MntFruits  MntMeatProducts  MntFishProducts  MntSweetProducts  \\\n",
      "0     635.0       88.0              546              172              88.0   \n",
      "\n",
      "   MntGoldProds  total_amount_spent  \n",
      "0          88.0              1617.0  \n"
     ]
    }
   ],
   "source": [
    "# List of columns representing amounts spent on different product categories\n",
    "product_cols = ['MntWines', 'MntFruits', 'MntMeatProducts', 'MntFishProducts', 'MntSweetProducts', 'MntGoldProds']\n",
    "\n",
    "# Calculate the total amount spent by each individual\n",
    "X['total_amount_spent'] = X[product_cols].sum(axis=1)\n",
    "\n",
    "# Display the first few rows to verify the new 'total_amount_spent' column\n",
    "print(X[product_cols + ['total_amount_spent']].head(1))\n",
    "\n",
    "# Drop the columns representing amounts spent on different product categories\n",
    "X.drop(product_cols, axis=1, inplace=True)"
   ]
  },
  {
   "cell_type": "markdown",
   "metadata": {},
   "source": [
    "### **Create `total_num_purchases` column by summing up `purchases from channels`**"
   ]
  },
  {
   "cell_type": "code",
   "execution_count": 38,
   "metadata": {},
   "outputs": [
    {
     "name": "stdout",
     "output_type": "stream",
     "text": [
      "   NumDealsPurchases  NumWebPurchases  NumCatalogPurchases  NumStorePurchases  \\\n",
      "0                  3                8                   10                  4   \n",
      "\n",
      "   total_num_purchases  \n",
      "0                   25  \n"
     ]
    }
   ],
   "source": [
    "# List of columns representing number of purchases from different channels\n",
    "purchase_cols = ['NumDealsPurchases', 'NumWebPurchases', 'NumCatalogPurchases', 'NumStorePurchases']\n",
    "\n",
    "# Calculate the total number of purchases made by each individual\n",
    "X['total_num_purchases'] = X[purchase_cols].sum(axis=1)\n",
    "\n",
    "# Display the first few rows to verify the new 'total_num_purchases' column\n",
    "print(X[purchase_cols + ['total_num_purchases']].head(1))\n",
    "\n",
    "# Drop the purchase cols\n",
    "X.drop(purchase_cols, axis=1, inplace=True)"
   ]
  },
  {
   "cell_type": "code",
   "execution_count": 39,
   "metadata": {},
   "outputs": [
    {
     "data": {
      "text/plain": [
       "\"# List of columns representing acceptance of marketing campaigns\\ncampaign_cols = ['AcceptedCmp1', 'AcceptedCmp2', 'AcceptedCmp3', 'AcceptedCmp4', 'AcceptedCmp5']\\n\\nweight_factors = [0.1, 0.2, 0.3, 0.4, 0.5]  \\n\\n# Calculate the weighted sum of accepted campaigns for each individual\\nX['weighted_campaigns'] = X[campaign_cols].multiply(weight_factors).sum(axis=1)\\n\\n# Display the first few rows of the weighted campaigns\\nprint(X['weighted_campaigns'].head())\\n\\n# Drop campaign cols\\nX.drop(campaign_cols, axis=1, inplace=True)\""
      ]
     },
     "execution_count": 39,
     "metadata": {},
     "output_type": "execute_result"
    }
   ],
   "source": [
    "# It is tried to give more weights to recent campaigns. But summing the campaigns generalized better and give better results based on recall and F1 score. \n",
    "\n",
    "'''# List of columns representing acceptance of marketing campaigns\n",
    "campaign_cols = ['AcceptedCmp1', 'AcceptedCmp2', 'AcceptedCmp3', 'AcceptedCmp4', 'AcceptedCmp5']\n",
    "\n",
    "weight_factors = [0.1, 0.2, 0.3, 0.4, 0.5]  \n",
    "\n",
    "# Calculate the weighted sum of accepted campaigns for each individual\n",
    "X['weighted_campaigns'] = X[campaign_cols].multiply(weight_factors).sum(axis=1)\n",
    "\n",
    "# Display the first few rows of the weighted campaigns\n",
    "print(X['weighted_campaigns'].head())\n",
    "\n",
    "# Drop campaign cols\n",
    "X.drop(campaign_cols, axis=1, inplace=True)'''"
   ]
  },
  {
   "cell_type": "markdown",
   "metadata": {},
   "source": [
    "### **Create `total_campaigns_accepted` column by summing up `campaigns`**"
   ]
  },
  {
   "cell_type": "code",
   "execution_count": 40,
   "metadata": {},
   "outputs": [
    {
     "name": "stdout",
     "output_type": "stream",
     "text": [
      "      AcceptedCmp1  AcceptedCmp2  AcceptedCmp3  AcceptedCmp4  AcceptedCmp5  \\\n",
      "2235             0             0             0             0             0   \n",
      "2236             1             0             0             0             0   \n",
      "2237             0             0             0             1             0   \n",
      "2238             0             0             0             0             0   \n",
      "2239             0             0             0             0             0   \n",
      "\n",
      "      total_campaigns_accepted  \n",
      "2235                         0  \n",
      "2236                         1  \n",
      "2237                         1  \n",
      "2238                         0  \n",
      "2239                         0  \n"
     ]
    }
   ],
   "source": [
    "# List of columns representing acceptance of marketing campaigns\n",
    "campaign_cols = ['AcceptedCmp1', 'AcceptedCmp2', 'AcceptedCmp3', 'AcceptedCmp4', 'AcceptedCmp5']\n",
    "\n",
    "# Calculate the total number of marketing campaigns accepted by each individual\n",
    "X['total_campaigns_accepted'] = X[campaign_cols].sum(axis=1)\n",
    "\n",
    "# Display the first few rows to verify the new 'total_campaigns_accepted' column\n",
    "print(X[campaign_cols + ['total_campaigns_accepted']].tail(5))\n",
    "\n",
    "# Drop campaign cols\n",
    "X.drop(campaign_cols, axis=1, inplace=True)"
   ]
  },
  {
   "cell_type": "markdown",
   "metadata": {},
   "source": [
    "### **Create `family_size` column by summing up `Kidhome` and `Teenhome`**"
   ]
  },
  {
   "cell_type": "code",
   "execution_count": 41,
   "metadata": {},
   "outputs": [
    {
     "name": "stdout",
     "output_type": "stream",
     "text": [
      "   Kidhome  Teenhome  family_size\n",
      "0        0         0            0\n",
      "1        1         1            2\n",
      "2        0         0            0\n",
      "3        1         0            1\n",
      "4        1         0            1\n"
     ]
    }
   ],
   "source": [
    "# Calculate the family size by summing the 'Kidhome' and 'Teenhome' columns\n",
    "X['family_size'] = X['Kidhome'] + X['Teenhome']\n",
    "\n",
    "# Display the first few rows to verify the new 'family_size' column\n",
    "print(X[['Kidhome', 'Teenhome', 'family_size']].head())\n",
    "\n",
    "# Drop the columns\n",
    "X.drop(['Kidhome', 'Teenhome'], axis=1, inplace=True)"
   ]
  },
  {
   "cell_type": "markdown",
   "metadata": {},
   "source": [
    "### **Bin and label the `Income` column**"
   ]
  },
  {
   "cell_type": "code",
   "execution_count": 42,
   "metadata": {},
   "outputs": [
    {
     "data": {
      "text/plain": [
       "count      2215.000000\n",
       "mean      51910.670730\n",
       "std       20962.376601\n",
       "min        3502.000000\n",
       "25%       35482.000000\n",
       "50%       51287.000000\n",
       "75%       68429.500000\n",
       "max      162397.000000\n",
       "Name: Income, dtype: float64"
      ]
     },
     "execution_count": 42,
     "metadata": {},
     "output_type": "execute_result"
    }
   ],
   "source": [
    "# Check percentiles for binning\n",
    "X.Income.describe()"
   ]
  },
  {
   "cell_type": "code",
   "execution_count": 43,
   "metadata": {},
   "outputs": [
    {
     "name": "stdout",
     "output_type": "stream",
     "text": [
      "    Income income_level\n",
      "0  58138.0       Medium\n",
      "1  46344.0          Low\n",
      "2  71613.0         High\n",
      "3  26646.0     Very Low\n",
      "4  58293.0       Medium\n"
     ]
    }
   ],
   "source": [
    "# Define the income level bins based on quartiles\n",
    "income_bins = [0, 35482, 51287, 68429, 999999]  # Low, Medium, High\n",
    "income_labels = ['Very Low', 'Low', 'Medium', 'High']\n",
    "\n",
    "# Create a new column 'income_level' based on the income bins\n",
    "X['income_level'] = pd.cut(X['Income'], bins=income_bins, labels=income_labels)\n",
    "\n",
    "# Display the first few rows to verify the new 'income_level' column\n",
    "print(X[['Income', 'income_level']].head())\n",
    "\n",
    "# Drop Income column\n",
    "X.drop(['Income'], axis=1, inplace=True)"
   ]
  },
  {
   "cell_type": "code",
   "execution_count": 44,
   "metadata": {},
   "outputs": [],
   "source": [
    "# Define the columns \n",
    "cols = ['age_category', 'marital_status', 'income_level']\n",
    "                    \n",
    "'''ce_onehotencoder = ce.OneHotEncoder(cols=cols)\n",
    "X = ce_onehotencoder.fit_transform(X)'''\n",
    "\n",
    "# Initialize Ordinal Encoder and fit&transform the data\n",
    "# OrdinalEncoder gave more reliable results compared to OneHotEncoder     \n",
    "ce_ordinalencoder = ce.OrdinalEncoder(cols=cols)\n",
    "X = ce_ordinalencoder.fit_transform(X)"
   ]
  },
  {
   "cell_type": "code",
   "execution_count": 45,
   "metadata": {},
   "outputs": [
    {
     "data": {
      "text/html": [
       "<div>\n",
       "<style scoped>\n",
       "    .dataframe tbody tr th:only-of-type {\n",
       "        vertical-align: middle;\n",
       "    }\n",
       "\n",
       "    .dataframe tbody tr th {\n",
       "        vertical-align: top;\n",
       "    }\n",
       "\n",
       "    .dataframe thead th {\n",
       "        text-align: right;\n",
       "    }\n",
       "</style>\n",
       "<table border=\"1\" class=\"dataframe\">\n",
       "  <thead>\n",
       "    <tr style=\"text-align: right;\">\n",
       "      <th></th>\n",
       "      <th>count</th>\n",
       "      <th>mean</th>\n",
       "      <th>std</th>\n",
       "      <th>min</th>\n",
       "      <th>25%</th>\n",
       "      <th>50%</th>\n",
       "      <th>75%</th>\n",
       "      <th>max</th>\n",
       "    </tr>\n",
       "  </thead>\n",
       "  <tbody>\n",
       "    <tr>\n",
       "      <th>Recency</th>\n",
       "      <td>2215.0</td>\n",
       "      <td>49.191422</td>\n",
       "      <td>28.918529</td>\n",
       "      <td>0.0</td>\n",
       "      <td>24.0</td>\n",
       "      <td>49.0</td>\n",
       "      <td>74.0</td>\n",
       "      <td>99.0</td>\n",
       "    </tr>\n",
       "    <tr>\n",
       "      <th>NumWebVisitsMonth</th>\n",
       "      <td>2215.0</td>\n",
       "      <td>5.295711</td>\n",
       "      <td>2.315974</td>\n",
       "      <td>0.0</td>\n",
       "      <td>3.0</td>\n",
       "      <td>6.0</td>\n",
       "      <td>7.0</td>\n",
       "      <td>17.0</td>\n",
       "    </tr>\n",
       "    <tr>\n",
       "      <th>Complain</th>\n",
       "      <td>2215.0</td>\n",
       "      <td>0.009481</td>\n",
       "      <td>0.096929</td>\n",
       "      <td>0.0</td>\n",
       "      <td>0.0</td>\n",
       "      <td>0.0</td>\n",
       "      <td>0.0</td>\n",
       "      <td>1.0</td>\n",
       "    </tr>\n",
       "    <tr>\n",
       "      <th>Response</th>\n",
       "      <td>2215.0</td>\n",
       "      <td>0.150339</td>\n",
       "      <td>0.357484</td>\n",
       "      <td>0.0</td>\n",
       "      <td>0.0</td>\n",
       "      <td>0.0</td>\n",
       "      <td>0.0</td>\n",
       "      <td>1.0</td>\n",
       "    </tr>\n",
       "    <tr>\n",
       "      <th>higher_education</th>\n",
       "      <td>2215.0</td>\n",
       "      <td>0.885779</td>\n",
       "      <td>0.318152</td>\n",
       "      <td>0.0</td>\n",
       "      <td>1.0</td>\n",
       "      <td>1.0</td>\n",
       "      <td>1.0</td>\n",
       "      <td>1.0</td>\n",
       "    </tr>\n",
       "    <tr>\n",
       "      <th>marital_status</th>\n",
       "      <td>2215.0</td>\n",
       "      <td>2.029345</td>\n",
       "      <td>0.861474</td>\n",
       "      <td>1.0</td>\n",
       "      <td>1.0</td>\n",
       "      <td>2.0</td>\n",
       "      <td>3.0</td>\n",
       "      <td>3.0</td>\n",
       "    </tr>\n",
       "    <tr>\n",
       "      <th>age_category</th>\n",
       "      <td>2215.0</td>\n",
       "      <td>2.211738</td>\n",
       "      <td>0.839865</td>\n",
       "      <td>1.0</td>\n",
       "      <td>1.0</td>\n",
       "      <td>2.0</td>\n",
       "      <td>3.0</td>\n",
       "      <td>3.0</td>\n",
       "    </tr>\n",
       "    <tr>\n",
       "      <th>length_of_membership</th>\n",
       "      <td>2215.0</td>\n",
       "      <td>10.969300</td>\n",
       "      <td>0.682704</td>\n",
       "      <td>10.0</td>\n",
       "      <td>11.0</td>\n",
       "      <td>11.0</td>\n",
       "      <td>11.0</td>\n",
       "      <td>12.0</td>\n",
       "    </tr>\n",
       "    <tr>\n",
       "      <th>total_amount_spent</th>\n",
       "      <td>2215.0</td>\n",
       "      <td>604.337547</td>\n",
       "      <td>601.850761</td>\n",
       "      <td>5.0</td>\n",
       "      <td>68.0</td>\n",
       "      <td>395.0</td>\n",
       "      <td>1044.5</td>\n",
       "      <td>2525.0</td>\n",
       "    </tr>\n",
       "    <tr>\n",
       "      <th>total_num_purchases</th>\n",
       "      <td>2215.0</td>\n",
       "      <td>14.754402</td>\n",
       "      <td>7.543263</td>\n",
       "      <td>0.0</td>\n",
       "      <td>8.0</td>\n",
       "      <td>15.0</td>\n",
       "      <td>21.0</td>\n",
       "      <td>35.0</td>\n",
       "    </tr>\n",
       "    <tr>\n",
       "      <th>total_campaigns_accepted</th>\n",
       "      <td>2215.0</td>\n",
       "      <td>0.300226</td>\n",
       "      <td>0.681193</td>\n",
       "      <td>0.0</td>\n",
       "      <td>0.0</td>\n",
       "      <td>0.0</td>\n",
       "      <td>0.0</td>\n",
       "      <td>4.0</td>\n",
       "    </tr>\n",
       "    <tr>\n",
       "      <th>family_size</th>\n",
       "      <td>2215.0</td>\n",
       "      <td>0.948081</td>\n",
       "      <td>0.749293</td>\n",
       "      <td>0.0</td>\n",
       "      <td>0.0</td>\n",
       "      <td>1.0</td>\n",
       "      <td>1.0</td>\n",
       "      <td>3.0</td>\n",
       "    </tr>\n",
       "    <tr>\n",
       "      <th>income_level</th>\n",
       "      <td>2215.0</td>\n",
       "      <td>2.499774</td>\n",
       "      <td>1.118488</td>\n",
       "      <td>1.0</td>\n",
       "      <td>1.5</td>\n",
       "      <td>2.0</td>\n",
       "      <td>3.5</td>\n",
       "      <td>4.0</td>\n",
       "    </tr>\n",
       "  </tbody>\n",
       "</table>\n",
       "</div>"
      ],
      "text/plain": [
       "                           count        mean         std   min   25%    50%  \\\n",
       "Recency                   2215.0   49.191422   28.918529   0.0  24.0   49.0   \n",
       "NumWebVisitsMonth         2215.0    5.295711    2.315974   0.0   3.0    6.0   \n",
       "Complain                  2215.0    0.009481    0.096929   0.0   0.0    0.0   \n",
       "Response                  2215.0    0.150339    0.357484   0.0   0.0    0.0   \n",
       "higher_education          2215.0    0.885779    0.318152   0.0   1.0    1.0   \n",
       "marital_status            2215.0    2.029345    0.861474   1.0   1.0    2.0   \n",
       "age_category              2215.0    2.211738    0.839865   1.0   1.0    2.0   \n",
       "length_of_membership      2215.0   10.969300    0.682704  10.0  11.0   11.0   \n",
       "total_amount_spent        2215.0  604.337547  601.850761   5.0  68.0  395.0   \n",
       "total_num_purchases       2215.0   14.754402    7.543263   0.0   8.0   15.0   \n",
       "total_campaigns_accepted  2215.0    0.300226    0.681193   0.0   0.0    0.0   \n",
       "family_size               2215.0    0.948081    0.749293   0.0   0.0    1.0   \n",
       "income_level              2215.0    2.499774    1.118488   1.0   1.5    2.0   \n",
       "\n",
       "                             75%     max  \n",
       "Recency                     74.0    99.0  \n",
       "NumWebVisitsMonth            7.0    17.0  \n",
       "Complain                     0.0     1.0  \n",
       "Response                     0.0     1.0  \n",
       "higher_education             1.0     1.0  \n",
       "marital_status               3.0     3.0  \n",
       "age_category                 3.0     3.0  \n",
       "length_of_membership        11.0    12.0  \n",
       "total_amount_spent        1044.5  2525.0  \n",
       "total_num_purchases         21.0    35.0  \n",
       "total_campaigns_accepted     0.0     4.0  \n",
       "family_size                  1.0     3.0  \n",
       "income_level                 3.5     4.0  "
      ]
     },
     "execution_count": 45,
     "metadata": {},
     "output_type": "execute_result"
    }
   ],
   "source": [
    "# Summary statistics for all variables after data preparation - Transpose\n",
    "X.describe(include='all').T"
   ]
  },
  {
   "cell_type": "code",
   "execution_count": 46,
   "metadata": {},
   "outputs": [
    {
     "data": {
      "image/png": "[encoded data removed]",
      "text/plain": [
       "<Figure size 1000x1000 with 2 Axes>"
      ]
     },
     "metadata": {},
     "output_type": "display_data"
    }
   ],
   "source": [
    "# Calculate correlation matrix\n",
    "correlation_matrix = X.corr()\n",
    "\n",
    "# Create a mask to hide the upper triangle\n",
    "mask = np.triu(np.ones_like(correlation_matrix, dtype=bool))\n",
    "\n",
    "# Set the size of the figure\n",
    "plt.figure(figsize=(10, 10))\n",
    "\n",
    "# Plot the heatmap\n",
    "sns.heatmap(correlation_matrix, cmap='coolwarm', mask=mask,\n",
    "                square=True,\n",
    "                linewidths=.5,\n",
    "                vmin=-1,\n",
    "                vmax=1,\n",
    "                annot=True,\n",
    "                fmt=\".2f\")\n",
    "plt.show()"
   ]
  },
  {
   "cell_type": "markdown",
   "metadata": {},
   "source": [
    "There is no highly correlated variable (>0.90). Just in case total_amount_spent(0.81) was dropped the checked the results. Without dropping, the results were slightly better. So we move on without dropping any column."
   ]
  },
  {
   "cell_type": "code",
   "execution_count": 47,
   "metadata": {},
   "outputs": [
    {
     "name": "stdout",
     "output_type": "stream",
     "text": [
      "Correlation Matrix:\n",
      "Response                    1.000000\n",
      "total_campaigns_accepted    0.426649\n",
      "total_amount_spent          0.268858\n",
      "length_of_membership        0.172527\n",
      "total_num_purchases         0.165953\n",
      "income_level                0.150890\n",
      "higher_education            0.059711\n",
      "Complain                   -0.002048\n",
      "NumWebVisitsMonth          -0.002440\n",
      "age_category               -0.033862\n",
      "marital_status             -0.130197\n",
      "family_size                -0.168135\n",
      "Recency                    -0.200398\n",
      "Name: Response, dtype: float64\n"
     ]
    }
   ],
   "source": [
    "# Correlation matrix for 'Response' column after data preparation\n",
    "correlation_matrix = X.corr()['Response'].sort_values(ascending=False)\n",
    "\n",
    "print(\"Correlation Matrix:\")\n",
    "print(correlation_matrix)"
   ]
  },
  {
   "cell_type": "markdown",
   "metadata": {},
   "source": [
    "A correlation matrix simply shows the strength and direction of linear relationships between variables. It quantifies how changes in one variable are associated with changes in another variable.\n",
    "However, correlation does not imply causation. Even if two variables are strongly correlated, it does not necessarily mean that changes in one variable cause changes in the other. \n",
    "\n",
    "- **Reference:** *Grus, J. (2015). Data science from scratch: first principles with Python. First edition. Sebastopol, CA, O'Reilly, p. 67.*\n",
    "\n",
    "So, we will apply different techniques such as RFECV and logit model for feature selection to prevent complex models, by considering correlation matrix as well. \n"
   ]
  },
  {
   "cell_type": "markdown",
   "metadata": {},
   "source": [
    "## **4. MODELING**"
   ]
  },
  {
   "cell_type": "code",
   "execution_count": 48,
   "metadata": {},
   "outputs": [],
   "source": [
    "# Create the target variable\n",
    "y = X['Response']"
   ]
  },
  {
   "cell_type": "code",
   "execution_count": 49,
   "metadata": {},
   "outputs": [
    {
     "data": {
      "text/plain": [
       "array([1, 0])"
      ]
     },
     "execution_count": 49,
     "metadata": {},
     "output_type": "execute_result"
    }
   ],
   "source": [
    "# Make sure target variable is correctly assigned\n",
    "y.unique()"
   ]
  },
  {
   "cell_type": "code",
   "execution_count": 50,
   "metadata": {},
   "outputs": [],
   "source": [
    "# Drop the target from the training data\n",
    "X = X.drop(['Response'], axis=1)"
   ]
  },
  {
   "cell_type": "markdown",
   "metadata": {},
   "source": [
    "We did really good job till here! \n",
    "\n",
    "Now, the p-values of features will be checked and the most important features will be included in training. The main objective is to use the minimum possible number of features to create a simple model. Creating a simple model with fewer features helps improve interpretability, reduce overfitting, enhance computational efficiency, increase robustness, and simplify model maintenance."
   ]
  },
  {
   "cell_type": "code",
   "execution_count": 51,
   "metadata": {},
   "outputs": [
    {
     "name": "stdout",
     "output_type": "stream",
     "text": [
      "Optimization terminated successfully.\n",
      "         Current function value: 0.302529\n",
      "         Iterations 7\n",
      "                           Logit Regression Results                           \n",
      "==============================================================================\n",
      "Dep. Variable:               Response   No. Observations:                 2215\n",
      "Model:                          Logit   Df Residuals:                     2203\n",
      "Method:                           MLE   Df Model:                           11\n",
      "Date:                Sat, 08 Jun 2024   Pseudo R-squ.:                  0.2853\n",
      "Time:                        20:50:56   Log-Likelihood:                -670.10\n",
      "converged:                       True   LL-Null:                       -937.60\n",
      "Covariance Type:            nonrobust   LLR p-value:                1.091e-107\n",
      "============================================================================================\n",
      "                               coef    std err          z      P>|z|      [0.025      0.975]\n",
      "--------------------------------------------------------------------------------------------\n",
      "Recency                     -0.0291      0.003    -10.544      0.000      -0.035      -0.024\n",
      "NumWebVisitsMonth            0.1546      0.045      3.435      0.001       0.066       0.243\n",
      "Complain                     0.2402      0.757      0.317      0.751      -1.243       1.723\n",
      "higher_education             0.4742      0.243      1.954      0.051      -0.001       0.950\n",
      "marital_status              -0.6706      0.086     -7.807      0.000      -0.839      -0.502\n",
      "age_category                -0.1680      0.087     -1.921      0.055      -0.339       0.003\n",
      "length_of_membership        -0.0252      0.044     -0.570      0.569      -0.112       0.062\n",
      "total_amount_spent           0.0012      0.000      4.897      0.000       0.001       0.002\n",
      "total_num_purchases          0.0094      0.015      0.630      0.528      -0.020       0.039\n",
      "total_campaigns_accepted     1.2471      0.104     12.027      0.000       1.044       1.450\n",
      "family_size                 -0.3539      0.131     -2.707      0.007      -0.610      -0.098\n",
      "income_level                -0.4249      0.135     -3.157      0.002      -0.689      -0.161\n",
      "============================================================================================\n"
     ]
    }
   ],
   "source": [
    "# Logistic regression analysis \n",
    "logit_model=sm.Logit(y,X)\n",
    "result=logit_model.fit()\n",
    "print(result.summary())"
   ]
  },
  {
   "cell_type": "markdown",
   "metadata": {},
   "source": [
    "Logistic Regression analysis can help in feature selection by identifying which features have a significant impact on the outcome. The summary output includes p-values for each coefficient, allowing us to identify features with low p-values (indicating statistical significance) and potentially discard features with high p-values.\n",
    "\n",
    "Based on logit model, the most important features for predicting the likelihood of response seem to be **`Recency`**, **`NumWebVisitsMonth`**, **`total_amount_spent`**, **`total_campaigns_accepted`**, **`marital_ status`**, **family_size**, and **income_level**. \n",
    "\n",
    "- `'Recency'`, `'NumWebVisitsMonth'`, `'total_amount_spent'`, `'total_campaigns_accepted'`, `'marital_status'` all show a statistically significant relationship (p < 0.001) with response.\n",
    "\n",
    "- `'family_size'` and `'income_level'` also show statistical significance (p = 0.007 and p = 0.002, respectively).\n",
    "\n",
    "By considering corresponding p-values, we can assess the importance and significance of each feature in predicting the likelihood of response. Features with low p-values are likely to have a stronger impact on the response variable and are therefore more important in our model."
   ]
  },
  {
   "cell_type": "code",
   "execution_count": 52,
   "metadata": {},
   "outputs": [
    {
     "name": "stdout",
     "output_type": "stream",
     "text": [
      "Index(['Recency', 'NumWebVisitsMonth', 'marital_status', 'total_amount_spent',\n",
      "       'total_campaigns_accepted', 'family_size', 'income_level'],\n",
      "      dtype='object')\n"
     ]
    }
   ],
   "source": [
    "# Drop the features with p-values greater than 0.5\n",
    "X = X.drop(['Complain', 'higher_education', 'age_category', 'length_of_membership', 'total_num_purchases'], axis=1)\n",
    "\n",
    "# Confirmation\n",
    "print(X.columns)"
   ]
  },
  {
   "cell_type": "code",
   "execution_count": 53,
   "metadata": {},
   "outputs": [],
   "source": [
    "# Split the data into train and test\n",
    "# By using stratify=y, we ensure that the proportion of each class in the training and test sets reflects the proportion of classes in the original dataset. This helps prevent biases, especially when dealing with imbalanced datasets \n",
    "X_train, X_test, y_train, y_test = train_test_split(X, y, train_size=0.75, test_size=0.25, stratify=y, random_state=random_state) "
   ]
  },
  {
   "cell_type": "code",
   "execution_count": 54,
   "metadata": {},
   "outputs": [
    {
     "name": "stdout",
     "output_type": "stream",
     "text": [
      "Shape of X_train: (1661, 7)\n",
      "Shape of X_test: (554, 7)\n",
      "Shape of y_train: (1661,)\n",
      "Shape of y_test: (554,)\n"
     ]
    }
   ],
   "source": [
    "# Check shape of the splits to confirm\n",
    "print(\"Shape of X_train:\", X_train.shape)\n",
    "print(\"Shape of X_test:\", X_test.shape)\n",
    "print(\"Shape of y_train:\", y_train.shape)\n",
    "print(\"Shape of y_test:\", y_test.shape)"
   ]
  },
  {
   "cell_type": "code",
   "execution_count": 55,
   "metadata": {},
   "outputs": [
    {
     "data": {
      "image/png": "[encoded data removed]",
      "text/plain": [
       "<Figure size 1000x900 with 12 Axes>"
      ]
     },
     "metadata": {},
     "output_type": "display_data"
    }
   ],
   "source": [
    "# Check the distributions of the columns before training in case of skewness\n",
    "numerical=X_train.select_dtypes(include=[np.number]).columns.tolist()\n",
    "X_train[numerical].hist(bins=15, figsize=(10, 9), layout=(4, 3), xlabelsize=8, ylabelsize=8)\n",
    "plt.show()"
   ]
  },
  {
   "cell_type": "markdown",
   "metadata": {},
   "source": [
    "`'total_amount_spent'` column is right skewed. Logarithmic transformation is applied to check whether results are better. But the results are slightly better without transformation with respect to generalization. "
   ]
  },
  {
   "cell_type": "code",
   "execution_count": 56,
   "metadata": {},
   "outputs": [
    {
     "data": {
      "text/plain": [
       "\"X_train['total_amount_spent_log'] = np.log1p(X_train['total_amount_spent'])\\nX_test['total_amount_spent_log'] = np.log1p(X_test['total_amount_spent'])\""
      ]
     },
     "execution_count": 56,
     "metadata": {},
     "output_type": "execute_result"
    }
   ],
   "source": [
    "# Apply logarithmic transformation for 'total_amount_spent'\n",
    "'''X_train['total_amount_spent_log'] = np.log1p(X_train['total_amount_spent'])\n",
    "X_test['total_amount_spent_log'] = np.log1p(X_test['total_amount_spent'])'''"
   ]
  },
  {
   "cell_type": "code",
   "execution_count": 57,
   "metadata": {},
   "outputs": [
    {
     "name": "stdout",
     "output_type": "stream",
     "text": [
      "Counter({0: 1411, 1: 250})\n",
      "Response\n",
      "0    0.849488\n",
      "1    0.150512\n",
      "Name: proportion, dtype: float64\n",
      "Imbalance ratio: 5.644\n"
     ]
    },
    {
     "data": {
      "image/png": "[encoded data removed]",
      "text/plain": [
       "<Figure size 300x300 with 1 Axes>"
      ]
     },
     "metadata": {},
     "output_type": "display_data"
    }
   ],
   "source": [
    "# Display target balance in the training dataset\n",
    "print(collections.Counter(y_train))\n",
    "fig, ax = plt.subplots(figsize=(3,3))\n",
    "sns.countplot(x=\"Response\", data=pd.DataFrame(data={'Response':y_train}), ax=ax)\n",
    "print(y_train.value_counts(normalize=True))\n",
    "\n",
    "# Calculate the imbalance ratio\n",
    "imbalance_ratio = y_train.value_counts()[0] / y_train.value_counts()[1]\n",
    "print(\"Imbalance ratio:\", imbalance_ratio)"
   ]
  },
  {
   "cell_type": "markdown",
   "metadata": {},
   "source": [
    "\\begin{align}\n",
    "ImbalanceRatio = NumberOfSamplesInClass0 / NumberOfSamplesInClass1\n",
    "\\end{align}\n",
    "\n",
    "**Imbalance ratio** = 1411 / 250 ≈ **5.64**\n",
    "\n",
    "This means that **class 0 is approximately 5.64 times larger than class 1**, indicating a significant class imbalance in the data at hand.\n",
    "\n",
    "Different oversampling techniques will be applied and to reduce the bias. And the technique that gives the best generalization, recall and f1 score among the training and test set will be selected."
   ]
  },
  {
   "cell_type": "code",
   "execution_count": 58,
   "metadata": {},
   "outputs": [
    {
     "name": "stdout",
     "output_type": "stream",
     "text": [
      "Counter({1: 1411, 0: 1411})\n"
     ]
    },
    {
     "data": {
      "image/png": "[encoded data removed]",
      "text/plain": [
       "<Figure size 300x300 with 1 Axes>"
      ]
     },
     "metadata": {},
     "output_type": "display_data"
    }
   ],
   "source": [
    "# It is applied SMOTE, BorderlineSMOTE, ADASYN, SMOTE-ENN, Geometric SMOTE, Random Oversampling methods. \n",
    "# BorderlineSmote generalize better in train and test sets and gave the highest F1 score among others. \n",
    "\n",
    "# Initialize Borderline SMOTE\n",
    "borderline = BorderlineSMOTE(random_state=random_state)\n",
    "\n",
    "# Apply Borderline SMOTE to generate new instances (oversampling)\n",
    "X_train2, y_train2 = borderline.fit_resample(X_train, y_train)\n",
    "\n",
    "# Display target balance in the training dataset\n",
    "print(collections.Counter(y_train2))\n",
    "\n",
    "# Visualize class distribution after applying Borderline SMOTE\n",
    "fig, ax = plt.subplots(figsize=(3, 3))\n",
    "sns.countplot(x=\"Response\", data=pd.DataFrame(data={'Response': y_train2}), ax=ax)\n",
    "plt.show()"
   ]
  },
  {
   "cell_type": "code",
   "execution_count": 59,
   "metadata": {},
   "outputs": [
    {
     "name": "stdout",
     "output_type": "stream",
     "text": [
      "[[0.09090909 0.21428571 1.         ... 0.5        0.         1.        ]\n",
      " [0.47474747 0.57142857 0.5        ... 0.         0.         0.        ]\n",
      " [0.32323232 0.5        1.         ... 0.         0.33333333 0.        ]\n",
      " ...\n",
      " [0.17171717 0.57142857 0.         ... 0.         0.         0.33333333]\n",
      " [0.1010101  0.57142857 0.         ... 0.         0.         0.33333333]\n",
      " [0.60606061 0.14285714 0.         ... 0.25       0.         1.        ]]\n",
      "[[0.42424242 0.14285714 0.         ... 0.         0.         1.        ]\n",
      " [0.28282828 0.28571429 0.         ... 0.         0.         1.        ]\n",
      " [0.90909091 0.42857143 0.         ... 0.         0.33333333 0.        ]\n",
      " ...\n",
      " [0.48484848 0.35714286 1.         ... 0.         0.         0.33333333]\n",
      " [0.02020202 0.35714286 0.5        ... 0.         0.         1.        ]\n",
      " [0.81818182 0.35714286 1.         ... 0.         0.33333333 0.66666667]]\n"
     ]
    }
   ],
   "source": [
    "# Normalization \n",
    "scaler = MinMaxScaler()\n",
    "X_train2_scaled = scaler.fit_transform(X_train2)\n",
    "X_test_scaled = scaler.transform(X_test)\n",
    "\n",
    "# Confirmation\n",
    "print(X_train2_scaled)\n",
    "print(X_test_scaled)"
   ]
  },
  {
   "cell_type": "markdown",
   "metadata": {},
   "source": [
    "Normalization is a crucial preprocessing step for logistic regression that helps improve convergence, equalize feature influence, facilitate regularization, maintain interpretability, and enhance the model's robustness to outliers and differences in feature scales. Since there is no one-size-fits-all, we applied normalization after oversampling which gives slightly better results."
   ]
  },
  {
   "cell_type": "markdown",
   "metadata": {},
   "source": [
    "### **GridSearchCV - Hyperparameter Tuning** "
   ]
  },
  {
   "cell_type": "code",
   "execution_count": 60,
   "metadata": {},
   "outputs": [
    {
     "data": {
      "text/plain": [
       "{'C': 100, 'penalty': 'l2', 'solver': 'liblinear'}"
      ]
     },
     "execution_count": 60,
     "metadata": {},
     "output_type": "execute_result"
    }
   ],
   "source": [
    "# Define hyperparameters to tune\n",
    "param_grid = {'C': [0.001, 0.01, 0.1, 1, 10, 100], 'penalty': ['l2'], 'solver': ['liblinear']}\n",
    "\n",
    "# Initialize logistic regression model\n",
    "lr = LogisticRegression(max_iter=1000)\n",
    "\n",
    "# Perform grid search with 10-fold cross-validation and scoring based on F1 score\n",
    "grid_search = GridSearchCV(estimator=lr, param_grid=param_grid, cv=10, scoring='f1_weighted')\n",
    "grid_search.fit(X_train2_scaled, y_train2)\n",
    "\n",
    "# Get best hyperparameters\n",
    "best_params = grid_search.best_params_\n",
    "best_params"
   ]
  },
  {
   "cell_type": "code",
   "execution_count": 61,
   "metadata": {},
   "outputs": [],
   "source": [
    "# Initiate the model with best parameters \n",
    "lr = LogisticRegression(**best_params, random_state=random_state)"
   ]
  },
  {
   "cell_type": "markdown",
   "metadata": {},
   "source": [
    "### **Recursive Feature Elimination with Cross Validation**"
   ]
  },
  {
   "cell_type": "code",
   "execution_count": 62,
   "metadata": {},
   "outputs": [
    {
     "data": {
      "image/png": "[encoded data removed]",
      "text/plain": [
       "<Figure size 600x400 with 1 Axes>"
      ]
     },
     "metadata": {},
     "output_type": "display_data"
    },
    {
     "data": {
      "text/plain": [
       "<Axes: title={'center': 'RFECV for LogisticRegression'}, xlabel='Number of Features Selected', ylabel='Score'>"
      ]
     },
     "execution_count": 62,
     "metadata": {},
     "output_type": "execute_result"
    }
   ],
   "source": [
    "plt.figure(figsize=(6,4))\n",
    "# Recursive Feature Elimination with Cross Validation\n",
    "vis = RFECV(lr, cv=10, scoring='f1_weighted')\n",
    "vis.fit(X_train2_scaled, y_train2)\n",
    "vis.show()"
   ]
  },
  {
   "cell_type": "markdown",
   "metadata": {},
   "source": [
    "RFECV is suggested to include all the features. "
   ]
  },
  {
   "cell_type": "markdown",
   "metadata": {},
   "source": [
    "### **Learning Curve**"
   ]
  },
  {
   "cell_type": "code",
   "execution_count": 86,
   "metadata": {},
   "outputs": [
    {
     "data": {
      "image/png": "[encoded data removed]",
      "text/plain": [
       "<Figure size 600x400 with 1 Axes>"
      ]
     },
     "metadata": {},
     "output_type": "display_data"
    }
   ],
   "source": [
    "plt.figure(figsize=(6,4))\n",
    "# Plot the learning curve\n",
    "sizes = np.linspace(0.1, 1.0, 5)\n",
    "visualizer = LearningCurve(estimator=lr, cv=10, scoring='f1_weighted', train_sizes=sizes, n_jobs=4, random_state=random_state)\n",
    "visualizer.fit(X, y)\n",
    "visualizer.show()\n",
    "\n",
    "# Display the plot\n",
    "plt.show()"
   ]
  },
  {
   "cell_type": "markdown",
   "metadata": {},
   "source": [
    "### **Cross Validation** "
   ]
  },
  {
   "cell_type": "code",
   "execution_count": 79,
   "metadata": {},
   "outputs": [
    {
     "data": {
      "image/png": "[encoded data removed]",
      "text/plain": [
       "<Figure size 600x400 with 1 Axes>"
      ]
     },
     "metadata": {},
     "output_type": "display_data"
    },
    {
     "data": {
      "text/plain": [
       "<Axes: title={'center': 'Cross Validation Scores for LogisticRegression'}, xlabel='Training Instances', ylabel='Score'>"
      ]
     },
     "execution_count": 79,
     "metadata": {},
     "output_type": "execute_result"
    },
    {
     "data": {
      "text/plain": [
       "<Figure size 800x550 with 0 Axes>"
      ]
     },
     "metadata": {},
     "output_type": "display_data"
    }
   ],
   "source": [
    "plt.figure(figsize=(6,4))\n",
    "# Visualize cross validation scores\n",
    "visualizer = CVScores(lr, cv=10, scoring='f1_weighted')\n",
    "\n",
    "visualizer.fit(X, y)        # Fit the data to the visualizer\n",
    "visualizer.show()           # Finalize and render the figure"
   ]
  },
  {
   "cell_type": "markdown",
   "metadata": {},
   "source": [
    "### **Discrimination Threshold**"
   ]
  },
  {
   "cell_type": "code",
   "execution_count": 65,
   "metadata": {},
   "outputs": [
    {
     "data": {
      "image/png": "[encoded data removed]",
      "text/plain": [
       "<Figure size 600x400 with 1 Axes>"
      ]
     },
     "metadata": {},
     "output_type": "display_data"
    },
    {
     "data": {
      "text/plain": [
       "<Axes: title={'center': 'Threshold Plot for LogisticRegression'}, xlabel='discrimination threshold', ylabel='score'>"
      ]
     },
     "execution_count": 65,
     "metadata": {},
     "output_type": "execute_result"
    }
   ],
   "source": [
    "plt.figure(figsize=(6,4))\n",
    "# Instantiate the DiscriminationThreshold visualizer with the model\n",
    "visualizer = DiscriminationThreshold(lr, random_state=random_state)\n",
    "\n",
    "# Fit the data to the visualizer\n",
    "visualizer.fit(X, y)\n",
    "\n",
    "# Visualize the discrimination threshold\n",
    "visualizer.show()"
   ]
  },
  {
   "cell_type": "code",
   "execution_count": 66,
   "metadata": {},
   "outputs": [
    {
     "data": {
      "text/html": [
       "<style>#sk-container-id-1 {color: black;}#sk-container-id-1 pre{padding: 0;}#sk-container-id-1 div.sk-toggleable {background-color: white;}#sk-container-id-1 label.sk-toggleable__label {cursor: pointer;display: block;width: 100%;margin-bottom: 0;padding: 0.3em;box-sizing: border-box;text-align: center;}#sk-container-id-1 label.sk-toggleable__label-arrow:before {content: \"▸\";float: left;margin-right: 0.25em;color: #696969;}#sk-container-id-1 label.sk-toggleable__label-arrow:hover:before {color: black;}#sk-container-id-1 div.sk-estimator:hover label.sk-toggleable__label-arrow:before {color: black;}#sk-container-id-1 div.sk-toggleable__content {max-height: 0;max-width: 0;overflow: hidden;text-align: left;background-color: #f0f8ff;}#sk-container-id-1 div.sk-toggleable__content pre {margin: 0.2em;color: black;border-radius: 0.25em;background-color: #f0f8ff;}#sk-container-id-1 input.sk-toggleable__control:checked~div.sk-toggleable__content {max-height: 200px;max-width: 100%;overflow: auto;}#sk-container-id-1 input.sk-toggleable__control:checked~label.sk-toggleable__label-arrow:before {content: \"▾\";}#sk-container-id-1 div.sk-estimator input.sk-toggleable__control:checked~label.sk-toggleable__label {background-color: #d4ebff;}#sk-container-id-1 div.sk-label input.sk-toggleable__control:checked~label.sk-toggleable__label {background-color: #d4ebff;}#sk-container-id-1 input.sk-hidden--visually {border: 0;clip: rect(1px 1px 1px 1px);clip: rect(1px, 1px, 1px, 1px);height: 1px;margin: -1px;overflow: hidden;padding: 0;position: absolute;width: 1px;}#sk-container-id-1 div.sk-estimator {font-family: monospace;background-color: #f0f8ff;border: 1px dotted black;border-radius: 0.25em;box-sizing: border-box;margin-bottom: 0.5em;}#sk-container-id-1 div.sk-estimator:hover {background-color: #d4ebff;}#sk-container-id-1 div.sk-parallel-item::after {content: \"\";width: 100%;border-bottom: 1px solid gray;flex-grow: 1;}#sk-container-id-1 div.sk-label:hover label.sk-toggleable__label {background-color: #d4ebff;}#sk-container-id-1 div.sk-serial::before {content: \"\";position: absolute;border-left: 1px solid gray;box-sizing: border-box;top: 0;bottom: 0;left: 50%;z-index: 0;}#sk-container-id-1 div.sk-serial {display: flex;flex-direction: column;align-items: center;background-color: white;padding-right: 0.2em;padding-left: 0.2em;position: relative;}#sk-container-id-1 div.sk-item {position: relative;z-index: 1;}#sk-container-id-1 div.sk-parallel {display: flex;align-items: stretch;justify-content: center;background-color: white;position: relative;}#sk-container-id-1 div.sk-item::before, #sk-container-id-1 div.sk-parallel-item::before {content: \"\";position: absolute;border-left: 1px solid gray;box-sizing: border-box;top: 0;bottom: 0;left: 50%;z-index: -1;}#sk-container-id-1 div.sk-parallel-item {display: flex;flex-direction: column;z-index: 1;position: relative;background-color: white;}#sk-container-id-1 div.sk-parallel-item:first-child::after {align-self: flex-end;width: 50%;}#sk-container-id-1 div.sk-parallel-item:last-child::after {align-self: flex-start;width: 50%;}#sk-container-id-1 div.sk-parallel-item:only-child::after {width: 0;}#sk-container-id-1 div.sk-dashed-wrapped {border: 1px dashed gray;margin: 0 0.4em 0.5em 0.4em;box-sizing: border-box;padding-bottom: 0.4em;background-color: white;}#sk-container-id-1 div.sk-label label {font-family: monospace;font-weight: bold;display: inline-block;line-height: 1.2em;}#sk-container-id-1 div.sk-label-container {text-align: center;}#sk-container-id-1 div.sk-container {/* jupyter's `normalize.less` sets `[hidden] { display: none; }` but bootstrap.min.css set `[hidden] { display: none !important; }` so we also need the `!important` here to be able to override the default hidden behavior on the sphinx rendered scikit-learn.org. See: https://github.com/scikit-learn/scikit-learn/issues/21755 */display: inline-block !important;position: relative;}#sk-container-id-1 div.sk-text-repr-fallback {display: none;}</style><div id=\"sk-container-id-1\" class=\"sk-top-container\"><div class=\"sk-text-repr-fallback\"><pre>LogisticRegression(C=100, random_state=2024, solver=&#x27;liblinear&#x27;)</pre><b>In a Jupyter environment, please rerun this cell to show the HTML representation or trust the notebook. <br />On GitHub, the HTML representation is unable to render, please try loading this page with nbviewer.org.</b></div><div class=\"sk-container\" hidden><div class=\"sk-item\"><div class=\"sk-estimator sk-toggleable\"><input class=\"sk-toggleable__control sk-hidden--visually\" id=\"sk-estimator-id-1\" type=\"checkbox\" checked><label for=\"sk-estimator-id-1\" class=\"sk-toggleable__label sk-toggleable__label-arrow\">LogisticRegression</label><div class=\"sk-toggleable__content\"><pre>LogisticRegression(C=100, random_state=2024, solver=&#x27;liblinear&#x27;)</pre></div></div></div></div></div>"
      ],
      "text/plain": [
       "LogisticRegression(C=100, random_state=2024, solver='liblinear')"
      ]
     },
     "execution_count": 66,
     "metadata": {},
     "output_type": "execute_result"
    }
   ],
   "source": [
    "# Train the model\n",
    "lr.fit(X_train2_scaled, y_train2)"
   ]
  },
  {
   "cell_type": "code",
   "execution_count": 67,
   "metadata": {},
   "outputs": [],
   "source": [
    "# It is tried different thresholds to balance the precision and recall and have the highest f1 score. Default threshold 0.5 has the highest f1 score.  \n",
    "threshold = 0.50  # [[0.1, 0.23, 0.3, 0.4, 0.5, 0.6, 0.7, 0.8]]\n",
    "\n",
    "# Predict probabilities for train and test sets\n",
    "y_prob_train = lr.predict_proba(X_train2_scaled)[:, 1]\n",
    "y_prob_test = lr.predict_proba(X_test_scaled)[:, 1]\n",
    "\n",
    "# Apply threshold to convert probabilities to binary predictions\n",
    "y_pred_train = (y_prob_train >= threshold).astype(int)\n",
    "y_pred_test = (y_prob_test >= threshold).astype(int)"
   ]
  },
  {
   "cell_type": "code",
   "execution_count": 68,
   "metadata": {},
   "outputs": [
    {
     "data": {
      "text/html": [
       "<div>\n",
       "<style scoped>\n",
       "    .dataframe tbody tr th:only-of-type {\n",
       "        vertical-align: middle;\n",
       "    }\n",
       "\n",
       "    .dataframe tbody tr th {\n",
       "        vertical-align: top;\n",
       "    }\n",
       "\n",
       "    .dataframe thead th {\n",
       "        text-align: right;\n",
       "    }\n",
       "</style>\n",
       "<table border=\"1\" class=\"dataframe\">\n",
       "  <thead>\n",
       "    <tr style=\"text-align: right;\">\n",
       "      <th></th>\n",
       "      <th>Measure</th>\n",
       "      <th>Train</th>\n",
       "      <th>Test</th>\n",
       "    </tr>\n",
       "  </thead>\n",
       "  <tbody>\n",
       "    <tr>\n",
       "      <th>0</th>\n",
       "      <td>Accuracy</td>\n",
       "      <td>0.792346</td>\n",
       "      <td>0.776173</td>\n",
       "    </tr>\n",
       "    <tr>\n",
       "      <th>1</th>\n",
       "      <td>Precision</td>\n",
       "      <td>0.790698</td>\n",
       "      <td>0.381503</td>\n",
       "    </tr>\n",
       "    <tr>\n",
       "      <th>2</th>\n",
       "      <td>Recall</td>\n",
       "      <td>0.795181</td>\n",
       "      <td>0.795181</td>\n",
       "    </tr>\n",
       "    <tr>\n",
       "      <th>3</th>\n",
       "      <td>F1-score</td>\n",
       "      <td>0.792933</td>\n",
       "      <td>0.515625</td>\n",
       "    </tr>\n",
       "    <tr>\n",
       "      <th>4</th>\n",
       "      <td>Specificity</td>\n",
       "      <td>0.789511</td>\n",
       "      <td>0.772824</td>\n",
       "    </tr>\n",
       "    <tr>\n",
       "      <th>5</th>\n",
       "      <td>G-Mean</td>\n",
       "      <td>0.792341</td>\n",
       "      <td>0.783923</td>\n",
       "    </tr>\n",
       "  </tbody>\n",
       "</table>\n",
       "</div>"
      ],
      "text/plain": [
       "       Measure     Train      Test\n",
       "0     Accuracy  0.792346  0.776173\n",
       "1    Precision  0.790698  0.381503\n",
       "2       Recall  0.795181  0.795181\n",
       "3     F1-score  0.792933  0.515625\n",
       "4  Specificity  0.789511  0.772824\n",
       "5       G-Mean  0.792341  0.783923"
      ]
     },
     "execution_count": 68,
     "metadata": {},
     "output_type": "execute_result"
    }
   ],
   "source": [
    "# Show performance results\n",
    "resultsDF = performanceMetricsDF(metrics, y_train2, y_pred_train, y_test, y_pred_test)\n",
    "resultsDF"
   ]
  },
  {
   "cell_type": "markdown",
   "metadata": {},
   "source": [
    "### **ROC-AUC**"
   ]
  },
  {
   "cell_type": "code",
   "execution_count": 69,
   "metadata": {},
   "outputs": [
    {
     "data": {
      "image/png": "[encoded data removed]",
      "text/plain": [
       "<Figure size 600x400 with 1 Axes>"
      ]
     },
     "metadata": {},
     "output_type": "display_data"
    },
    {
     "data": {
      "text/plain": [
       "<Axes: title={'center': 'ROC Curves for LogisticRegression'}, xlabel='False Positive Rate', ylabel='True Positive Rate'>"
      ]
     },
     "execution_count": 69,
     "metadata": {},
     "output_type": "execute_result"
    }
   ],
   "source": [
    "plt.figure(figsize=(6,4))\n",
    "# ROC curve\n",
    "visualizer = ROCAUC(lr, classes=['0','1'])\n",
    "visualizer.fit(X_train2_scaled, y_train2)\n",
    "visualizer.score(X_test_scaled, y_test)\n",
    "visualizer.show()"
   ]
  },
  {
   "cell_type": "markdown",
   "metadata": {},
   "source": [
    "- *\"[…] **the visual interpretability of ROC plots in the context of imbalanced datasets can be deceptive with respect to conclusions about the reliability of classification performance, owing to an intuitive but wrong interpretation of specificity. [Precision-recall curve] plots, on the other hand, can provide the viewer with an accurate prediction of future classification performance due to the fact that they evaluate the fraction of true positives among positive predictions.**\"*\n",
    "\n",
    "Reference: Saito, T., & Rehmsmeier, M. (2015). The precision-recall plot is more informative than the ROC plot when evaluating binary classifiers on imbalanced datasets. PloS one, 10(3), e0118432. https://doi.org/10.1371/journal.pone.0118432"
   ]
  },
  {
   "cell_type": "markdown",
   "metadata": {},
   "source": [
    "### **Precision-Recall Curve**"
   ]
  },
  {
   "cell_type": "code",
   "execution_count": 70,
   "metadata": {},
   "outputs": [
    {
     "data": {
      "image/png": "[encoded data removed]",
      "text/plain": [
       "<Figure size 600x400 with 1 Axes>"
      ]
     },
     "metadata": {},
     "output_type": "display_data"
    },
    {
     "data": {
      "text/plain": [
       "<Axes: title={'center': 'Precision-Recall Curve for LogisticRegression'}, xlabel='Recall', ylabel='Precision'>"
      ]
     },
     "execution_count": 70,
     "metadata": {},
     "output_type": "execute_result"
    }
   ],
   "source": [
    "plt.figure(figsize=(6,4))\n",
    "# Precison-Recall curve\n",
    "visualizer = PrecisionRecallCurve(lr, classes=['0','1'], ap_score=True, iso_f1_curves=True)\n",
    "visualizer.fit(X_train2_scaled, y_train2)\n",
    "visualizer.score(X_test_scaled, y_test)\n",
    "visualizer.show()"
   ]
  },
  {
   "cell_type": "markdown",
   "metadata": {},
   "source": [
    "### **Confusion Matrix**"
   ]
  },
  {
   "cell_type": "code",
   "execution_count": 71,
   "metadata": {},
   "outputs": [
    {
     "data": {
      "image/png": "[encoded data removed]",
      "text/plain": [
       "<Figure size 700x500 with 2 Axes>"
      ]
     },
     "metadata": {},
     "output_type": "display_data"
    }
   ],
   "source": [
    "# Show the confusion matrix\n",
    "cf = metrics.confusion_matrix(y_test,y_pred_test)\n",
    "labels = ['True Neg','False Pos','False Neg','True Pos']\n",
    "categories = ['0', '1']\n",
    "make_confusion_matrix(cf, \n",
    "                      group_names=labels,\n",
    "                      categories=categories, \n",
    "                      cmap='Blues',\n",
    "                      figsize=(7,5))"
   ]
  },
  {
   "cell_type": "markdown",
   "metadata": {},
   "source": [
    "### **Class Prediction Error** "
   ]
  },
  {
   "cell_type": "code",
   "execution_count": 72,
   "metadata": {},
   "outputs": [
    {
     "data": {
      "image/png": "[encoded data removed]",
      "text/plain": [
       "<Figure size 700x500 with 1 Axes>"
      ]
     },
     "metadata": {},
     "output_type": "display_data"
    },
    {
     "data": {
      "text/plain": [
       "<Axes: title={'center': 'Class Prediction Error for LogisticRegression'}, xlabel='actual class', ylabel='number of predicted class'>"
      ]
     },
     "execution_count": 72,
     "metadata": {},
     "output_type": "execute_result"
    }
   ],
   "source": [
    "classes = ['Not accepted','Accepted']\n",
    "plt.figure(figsize=(7,5))\n",
    "# Instantiate the classification model and visualizer\n",
    "visualizer = ClassPredictionError(lr, classes=classes)\n",
    "\n",
    "# Fit the training data to the visualizer\n",
    "visualizer.fit(X_train2_scaled, y_train2)\n",
    "\n",
    "# Evaluate the model on the test data\n",
    "visualizer.score(X_test_scaled, y_test)\n",
    "\n",
    "# Draw visualization\n",
    "visualizer.show()"
   ]
  },
  {
   "cell_type": "code",
   "execution_count": 73,
   "metadata": {},
   "outputs": [
    {
     "data": {
      "text/html": [
       "<div>\n",
       "<style scoped>\n",
       "    .dataframe tbody tr th:only-of-type {\n",
       "        vertical-align: middle;\n",
       "    }\n",
       "\n",
       "    .dataframe tbody tr th {\n",
       "        vertical-align: top;\n",
       "    }\n",
       "\n",
       "    .dataframe thead th {\n",
       "        text-align: right;\n",
       "    }\n",
       "</style>\n",
       "<table border=\"1\" class=\"dataframe\">\n",
       "  <thead>\n",
       "    <tr style=\"text-align: right;\">\n",
       "      <th></th>\n",
       "      <th>feature</th>\n",
       "      <th>coef</th>\n",
       "    </tr>\n",
       "  </thead>\n",
       "  <tbody>\n",
       "    <tr>\n",
       "      <th>0</th>\n",
       "      <td>total_amount_spent</td>\n",
       "      <td>4.608256</td>\n",
       "    </tr>\n",
       "    <tr>\n",
       "      <th>1</th>\n",
       "      <td>total_campaigns_accepted</td>\n",
       "      <td>3.859582</td>\n",
       "    </tr>\n",
       "    <tr>\n",
       "      <th>2</th>\n",
       "      <td>NumWebVisitsMonth</td>\n",
       "      <td>3.167518</td>\n",
       "    </tr>\n",
       "    <tr>\n",
       "      <th>3</th>\n",
       "      <td>Recency</td>\n",
       "      <td>3.036887</td>\n",
       "    </tr>\n",
       "    <tr>\n",
       "      <th>4</th>\n",
       "      <td>family_size</td>\n",
       "      <td>2.903364</td>\n",
       "    </tr>\n",
       "    <tr>\n",
       "      <th>5</th>\n",
       "      <td>income_level</td>\n",
       "      <td>1.880346</td>\n",
       "    </tr>\n",
       "    <tr>\n",
       "      <th>6</th>\n",
       "      <td>marital_status</td>\n",
       "      <td>1.698048</td>\n",
       "    </tr>\n",
       "  </tbody>\n",
       "</table>\n",
       "</div>"
      ],
      "text/plain": [
       "                    feature      coef\n",
       "0        total_amount_spent  4.608256\n",
       "1  total_campaigns_accepted  3.859582\n",
       "2         NumWebVisitsMonth  3.167518\n",
       "3                   Recency  3.036887\n",
       "4               family_size  2.903364\n",
       "5              income_level  1.880346\n",
       "6            marital_status  1.698048"
      ]
     },
     "execution_count": 73,
     "metadata": {},
     "output_type": "execute_result"
    }
   ],
   "source": [
    "# Show features coefficients\n",
    "abs_coef = np.concatenate(np.abs(lr.coef_))\n",
    "sorted_index = np.argsort(abs_coef)[::-1] # sort indices\n",
    "feature_coef = sorted_index[:10]\n",
    "feature_coefDF = pd.DataFrame(data={'feature': list(X_train.columns[feature_coef]), 'coef': abs_coef[feature_coef]})\n",
    "feature_coefDF"
   ]
  },
  {
   "cell_type": "code",
   "execution_count": 74,
   "metadata": {},
   "outputs": [],
   "source": [
    "# Save the best model\n",
    "file = open(\"model.pickle\", \"wb\")\n",
    "pickle.dump(lr, file)\n",
    "file.close()"
   ]
  },
  {
   "cell_type": "markdown",
   "metadata": {},
   "source": [
    "## **5. EVALUATION**"
   ]
  },
  {
   "cell_type": "markdown",
   "metadata": {},
   "source": [
    "Based on the evaluation metrics for both training and test sets, it appears that the best-performing model is the one with the following characteristics:\n",
    "\n",
    "### **Model**: Logistic Regression\n",
    "#### **Performance Metrics**\n",
    "*Train and Test results*:\n",
    "- **Accucary:** \n",
    "        <p>*The model's accuracy on the training set is 79.2%, while on the test set, it is slightly lower at 77.6%. This indicates that the model performs fairly consistently across both datasets, with a slight drop in the test set, which is expected.*\n",
    "- **Precision:** \n",
    "        <p>*Precision drops significantly from 79.1% on the training set to 38.2% on the test set. This suggests that the model is much better at correctly identifying positive instances on the training set than on the test set.*\n",
    "- **Recall:**\n",
    "        <p>*Recall remains constant at 79.5% for both the training and test sets. This consistency indicates that the model is equally effective at capturing true positive instances across both sets.*\n",
    "- **F1-score:**\n",
    "        <p>*The F1-score, which balances precision and recall, drops from 79.3% on the training set to 51.6% on the test set. This significant decrease aligns with the drop in precision, highlighting issues with the model's performance in identifying true positives accurately on the test set. This decrease in F1-score on the test set indicates a trade-off between precision and recall.*\n",
    "- **Specificity:**\n",
    "        <p>*Specificity, or the ability to correctly identify negative instances, is 79.0% on the training set and 77.3% on the test set. This minor decrease indicates the model's performance in recognizing negatives is relatively stable across both sets.*     \n",
    "- **G-mean:**\n",
    "        <p>*The geometric mean (G-Mean), which combines the true positive rate (recall) and the true negative rate (specificity), is 79.2% on the training set and 78.4% on the test set. This shows a balanced performance in identifying both positives and negatives, with only a slight reduction on the test set.*\n",
    "\n",
    "\n",
    "#### **Feature Importance**\n",
    "*Top 5 Features*:\n",
    "- total_amount_spent\n",
    "- total_campaigns_accepted\n",
    "- NumWebVisitsMonth\n",
    "- Recency\n",
    "- family_size\n",
    "\n",
    "*Significant Features*:\n",
    "income_level and marital_status also show notable impacts on the target variable.\n",
    "\n",
    "#### **Learning Curve**\n",
    "\n",
    "The Logistic regression model's performance on both training and cross-validation data can be seen in the learning curve plot based on the weighted f1 score. The model performs better on the training set of data at first, but after an unusual start, the cross-validation scores improve slightly by following the same pattern with train scores. The two curves eventually converge at a specific point, signifying consistent performance on unseen data. This convergence shows that the model generalizes well without significant underfitting or overfitting. \n",
    "\n",
    "#### **ROC-AUC**\n",
    "ROC AUC of 0.85 for both class 0 and class 1 indicates that the model has good discriminative power for both classes. The micro-average ROC AUC, if also around 0.85, confirms that the model performs well on average across all classes. This is the highest score among the models.\n",
    "\n",
    "\n",
    "#### **Precision-Recall Curve**\n",
    "This is a single-number summary of the precision-recall curve, calculated as the area under the PR curve (AUPRC). An AP of 0.55 means that, on average, the precision across different recall levels is 0.55. An average precision of 0.55 indicates a model with moderate performance in balancing precision and recall. A higher AP score indicates a better balance between precision and recall across all thresholds. AP with 0.55 is the best score among the other models. \n",
    "\n",
    "\n",
    "#### **Confusion Matrix**\n",
    "With logistic regression model, we achieved the highest true positive rates(%11.9) and true negative rates(%65.70). Since the Ms. Sarah concerns about TPR(recall) than the other metrics, this model provides better results with respect to business needs. \n",
    "\n",
    "#### **Overall Assessment**\n",
    "Tree-based models didn't generalize well in the data with the high difference between train and test scores. The Logistic Regression model demonstrates strong predictive performance with relatively low difference between train and test results, indicating a good generalization. It is achived to have best results possible with the most simplest model and less features. Only 7 features were created from 28 features. The feature importance analysis reveals several key factors influencing the target variable, including total_amount_spent, total_campaign_accepted, and Recency. "
   ]
  },
  {
   "cell_type": "markdown",
   "metadata": {},
   "source": [
    "#### **Understanding the Trade-Off**"
   ]
  },
  {
   "cell_type": "markdown",
   "metadata": {},
   "source": [
    "*High Recall, Lower Precision:* (BUSINESS NEED)\n",
    "- **Scenario**: You send the campaign to a broad audience to capture nearly all potential responders.\n",
    "- **Pros**: Maximum reach, ensuring most potential customers are contacted.\n",
    "- **Cons**: Higher marketing costs, increased likelihood of annoying uninterested customers, lower overall campaign efficiency.\n",
    "\n",
    "*High Precision, Lower Recall:*\n",
    "- **Scenario**: You send the campaign to a targeted, highly likely-to-respond audience.\n",
    "- **Pros**: Cost-efficient, higher customer satisfaction due to relevant offers, better use of marketing resources.\n",
    "- **Cons**: Misses some potential responders, possibly reducing the total number of responses."
   ]
  }
 ],
 "metadata": {
  "interpreter": {
   "hash": "46a9f2a6dd0028210def3e60d0ab467bb5e7c4cad4c42c2bdc0f499965ebbd01"
  },
  "kernelspec": {
   "display_name": "Python 3 (ipykernel)",
   "language": "python",
   "name": "python3"
  },
  "language_info": {
   "codemirror_mode": {
    "name": "ipython",
    "version": 3
   },
   "file_extension": ".py",
   "mimetype": "text/x-python",
   "name": "python",
   "nbconvert_exporter": "python",
   "pygments_lexer": "ipython3",
   "version": "3.11.5"
  }
 },
 "nbformat": 4,
 "nbformat_minor": 4
}
